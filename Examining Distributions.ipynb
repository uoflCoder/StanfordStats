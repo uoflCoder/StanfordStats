{
 "cells": [
  {
   "cell_type": "code",
   "execution_count": 22,
   "metadata": {
    "collapsed": true
   },
   "outputs": [],
   "source": [
    "import pandas as pd\n",
    "patientData = pd.read_csv('PatientData.csv')"
   ]
  },
  {
   "cell_type": "code",
   "execution_count": 23,
   "metadata": {},
   "outputs": [],
   "source": [
    "patientData['Gender'] = patientData['Gender'].map({'Female':1, 'Male': 2})"
   ]
  },
  {
   "cell_type": "code",
   "execution_count": 24,
   "metadata": {},
   "outputs": [],
   "source": [
    "patientData['Gender'].replace(1, 'Female',inplace=True)\n",
    "patientData['Gender'].replace(2, 'Male',inplace=True)\n",
    "\n"
   ]
  },
  {
   "cell_type": "code",
   "execution_count": 95,
   "metadata": {},
   "outputs": [
    {
     "data": {
      "image/png": "[encoded data removed]",
      "text/plain": [
       "<matplotlib.figure.Figure at 0x1f07ce3c588>"
      ]
     },
     "metadata": {},
     "output_type": "display_data"
    }
   ],
   "source": [
    "from string import digits\n",
    "import matplotlib.pyplot as plt\n",
    "friendsData = pd.read_csv('FriendsData.csv');\n",
    "friendsData['Friends'] = friendsData['Friends'].replace({'\"':''}, regex=True)\n",
    "#friendsData['Friends'] = friendsData['Friends'].replace({' ':''}, regex=True)\n",
    "remove_digits = str.maketrans('', '', digits)\n",
    "for i in range(0, len(friendsData)):\n",
    "    friendsData['Friends'][i] = friendsData['Friends'][i].translate(remove_digits)\n",
    "\n",
    "pie_chart = friendsData.Friends.value_counts()\n",
    "\n",
    "plt.pie(pie_chart, labels = pie_chart.index.tolist(), autopct = '%2.0f%%')\n",
    "plt.show()"
   ]
  },
  {
   "cell_type": "code",
   "execution_count": null,
   "metadata": {
    "collapsed": true
   },
   "outputs": [],
   "source": []
  },
  {
   "cell_type": "code",
   "execution_count": null,
   "metadata": {
    "collapsed": true
   },
   "outputs": [],
   "source": []
  }
 ],
 "metadata": {
  "kernelspec": {
   "display_name": "Python 3",
   "language": "python",
   "name": "python3"
  },
  "language_info": {
   "codemirror_mode": {
    "name": "ipython",
    "version": 3
   },
   "file_extension": ".py",
   "mimetype": "text/x-python",
   "name": "python",
   "nbconvert_exporter": "python",
   "pygments_lexer": "ipython3",
   "version": "3.6.1"
  }
 },
 "nbformat": 4,
 "nbformat_minor": 2
}
