{
 "cells": [
  {
   "cell_type": "code",
   "execution_count": 1,
   "metadata": {
    "collapsed": true
   },
   "outputs": [],
   "source": [
    "import pandas as pd\n",
    "patientData = pd.read_csv('PatientData.csv')\n"
   ]
  },
  {
   "cell_type": "code",
   "execution_count": 2,
   "metadata": {
    "collapsed": true
   },
   "outputs": [],
   "source": [
    "patientData['Gender'] = patientData['Gender'].map({'Female':1, 'Male': 2})"
   ]
  },
  {
   "cell_type": "code",
   "execution_count": 3,
   "metadata": {
    "collapsed": true
   },
   "outputs": [],
   "source": [
    "patientData['Gender'].replace(1, 'Female',inplace=True)\n",
    "patientData['Gender'].replace(2, 'Male',inplace=True)"
   ]
  },
  {
   "cell_type": "code",
   "execution_count": 4,
   "metadata": {},
   "outputs": [
    {
     "data": {
      "image/png": "[encoded data removed]",
      "text/plain": [
       "<matplotlib.figure.Figure at 0x20f6fc2f128>"
      ]
     },
     "metadata": {},
     "output_type": "display_data"
    }
   ],
   "source": [
    "from string import digits\n",
    "import matplotlib.pyplot as plt\n",
    "friendsData = pd.read_csv('FriendsData.csv');\n",
    "friendsData['Friends'] = friendsData['Friends'].replace({'\"':''}, regex=True)\n",
    "#friendsData['Friends'] = friendsData['Friends'].replace({' ':''}, regex=True)\n",
    "remove_digits = str.maketrans('', '', digits)\n",
    "for i in range(0, len(friendsData)):\n",
    "    friendsData['Friends'][i] = friendsData['Friends'][i].translate(remove_digits)\n",
    "\n",
    "pie_chart = friendsData.Friends.value_counts()\n",
    "\n",
    "plt.pie(pie_chart, labels = pie_chart.index.tolist(), autopct = '%1.02f%%')\n",
    "plt.show()"
   ]
  },
  {
   "cell_type": "code",
   "execution_count": 8,
   "metadata": {},
   "outputs": [
    {
     "data": {
      "image/png": "[encoded data removed]",
      "text/plain": [
       "<matplotlib.figure.Figure at 0x20f72bcae10>"
      ]
     },
     "metadata": {},
     "output_type": "display_data"
    }
   ],
   "source": [
    "import matplotlib.pyplot as plt\n",
    "import numpy as np\n",
    "import pandas as pd\n",
    "\n",
    "actorsData = pd.read_csv('ActorsData.csv')\n",
    "plt.hist(actorsData['Age'], bins=8)\n",
    "plt.title(\"Best Actor Oscar Winners Ages\")\n",
    "plt.xlabel(\"Age of Best Actor Oscar Winners (1970-2013)\")\n",
    "plt.ylabel(\"Number of Actors\")\n",
    "\n",
    "plt.show()"
   ]
  },
  {
   "cell_type": "code",
   "execution_count": 5,
   "metadata": {
    "collapsed": true
   },
   "outputs": [],
   "source": [
    "import numpy as np\n",
    "actorAge = pd.read_csv('ActorAge.csv')"
   ]
  },
  {
   "cell_type": "code",
   "execution_count": 6,
   "metadata": {},
   "outputs": [
    {
     "data": {
      "text/plain": [
       "count    44.000000\n",
       "mean     44.977273\n",
       "std       9.749153\n",
       "min      29.000000\n",
       "25%      38.000000\n",
       "50%      43.500000\n",
       "75%      50.250000\n",
       "max      76.000000\n",
       "Name: Age, dtype: float64"
      ]
     },
     "execution_count": 6,
     "metadata": {},
     "output_type": "execute_result"
    }
   ],
   "source": [
    "actorAge['Age'].describe()"
   ]
  },
  {
   "cell_type": "code",
   "execution_count": 7,
   "metadata": {},
   "outputs": [
    {
     "name": "stdout",
     "output_type": "stream",
     "text": [
      "Mean: 44.9772727273\n",
      "Standard Deviation: 9.63773039193\n",
      "Variance: 92.8858471074\n",
      "Median: 43.5\n",
      "1st Quartile: 38.0\n",
      "3rd Quartile: 50.25\n",
      "IQR: 12.25\n",
      "Minimum: 29\n",
      "Maximum: 76\n",
      "Count: 44\n"
     ]
    }
   ],
   "source": [
    "print(\"Mean:\",np.mean(actorAge['Age']))\n",
    "print(\"Standard Deviation:\",np.std(actorAge['Age']))\n",
    "print(\"Variance:\",np.var(actorAge['Age']))\n",
    "print(\"Median:\",np.median(actorAge['Age']))\n",
    "print(\"1st Quartile:\",np.percentile(actorAge['Age'],25))\n",
    "print(\"3rd Quartile:\",np.percentile(actorAge['Age'], 75))\n",
    "print(\"IQR:\",np.percentile(actorAge['Age'], 75) - np.percentile(actorAge['Age'],25))\n",
    "print(\"Minimum:\",np.min(actorAge['Age']))\n",
    "print(\"Maximum:\",np.max(actorAge['Age']))\n",
    "print(\"Count:\",np.size(actorAge['Age']))"
   ]
  },
  {
   "cell_type": "code",
   "execution_count": null,
   "metadata": {
    "collapsed": true
   },
   "outputs": [],
   "source": []
  }
 ],
 "metadata": {
  "kernelspec": {
   "display_name": "Python 3",
   "language": "python",
   "name": "python3"
  },
  "language_info": {
   "codemirror_mode": {
    "name": "ipython",
    "version": 3
   },
   "file_extension": ".py",
   "mimetype": "text/x-python",
   "name": "python",
   "nbconvert_exporter": "python",
   "pygments_lexer": "ipython3",
   "version": "3.6.1"
  }
 },
 "nbformat": 4,
 "nbformat_minor": 2
}
