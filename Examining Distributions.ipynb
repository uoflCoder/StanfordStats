{
 "cells": [
  {
   "cell_type": "code",
   "execution_count": 22,
   "metadata": {
    "collapsed": true
   },
   "outputs": [],
   "source": [
    "import pandas as pd\n",
    "patientData = pd.read_csv('PatientData.csv')"
   ]
  },
  {
   "cell_type": "code",
   "execution_count": 23,
   "metadata": {
    "collapsed": true
   },
   "outputs": [],
   "source": [
    "patientData['Gender'] = patientData['Gender'].map({'Female':1, 'Male': 2})"
   ]
  },
  {
   "cell_type": "code",
   "execution_count": 24,
   "metadata": {
    "collapsed": true
   },
   "outputs": [],
   "source": [
    "patientData['Gender'].replace(1, 'Female',inplace=True)\n",
    "patientData['Gender'].replace(2, 'Male',inplace=True)\n",
    "\n"
   ]
  },
  {
   "cell_type": "code",
   "execution_count": 100,
   "metadata": {},
   "outputs": [
    {
     "data": {
      "image/png": "iVBORw0KGgoAAAANSUhEUgAAAXIAAADuCAYAAAAk94yFAAAABHNCSVQICAgIfAhkiAAAAAlwSFlz\nAAALEgAACxIB0t1+/AAAIABJREFUeJzt3Xmc09W9//HXJ8kwwwxDYNgFNSoqbhWXugtUrbWOtr1u\nuNVx7bW2Vdvan+mt2mjb61hbtXrdaqvculcUtca6XJGlKOKGRFHR6gADyD6B2WeS8/vjfAcGGJbZ\ncvJNPs/HI49s33zzCQ/mnZPzPd9zxBiDUkop/wq4LkAppVT3aJArpZTPaZArpZTPaZArpZTPaZAr\npZTPaZArpZTPaZArpZTPaZArpZTPaZArpZTPaZArpZTPaZArpZTPaZArpZTPaZArpZTPaZArpZTP\naZArpZTPaZArpZTPaZArpZTPaZArpZTPaZD7mIhUicjT7e6fISKTurG/aSJyqHf7RREZ4N2+UkQ+\nFpFHRaRQRP5PROaKyMRufwilVLeFXBeguu0QEdnXGDO/J3dqjDm53d0rgBOMMdUicoT3/Ngd3ZeI\nhIwxrT1Zn1JqI22R+98fgV9t/qCIlInIsyIyT0Rmi8jXOtimr4g84bW2pwB92z1XJSKDReQ+YHfg\nnyJyLfAI8HWvRb6HiBwiItNF5F0ReVlERnivnyYid4jIO8BVIjJERJ4Wkbe9y9HedjERedDb/gsR\nubJdDRd49X8gIg97j3W4H6XymjFGLz69AFXAMOBjYDRwBjDJe+4u4Nfe7eOAuR28/mfAg97trwGt\nwKHt9j24g9sTgBe82wXAG8AQ7/7EdvubBtzT7r0eA47xbu8CfOzdjnn7KAQGA6u9/e4HLGj3vmXb\n2o9e9JLPF+1a8b8UcCvwS+Cf7R4/BjgdwBgzVUQGiUh/Y8y6dtuMA+70tpknIvM6+d57A/sDr4oI\nQBBY1u75J9vdPgHY19sOoL+I9PNux40xTUCTiKzAfjkdBzxljFnl1bdmW/sxxtR2snalcoYGeW54\nGBvkH2b4fQX4yBhz5Faer2t3OwAcYYxp3GQHNpCb2j2UYtv/Lzvcj1L5TPvIc4AxpgW4Hfhpu4dn\nAucBiMgEYNVmrXGAGcC53jb7Y7tXOuNTYIiIHOnto0BE9tvKtq8AP2m7IyLbO1g6FThTRAZ525d1\ncT9K5TwN8tzxVzZtycawI1rmAZVARQevuRfoJyIfAzcB73bmDY0xzdh++VtE5ANgLnDUVja/EjjU\nO3g5H7h8O/v+CPgdMN3b921d2Y9S+UCMMa5rUEop1Q3aIldKKZ/TIFdKKZ/TIFdKKZ/T4YcqK0Wi\n8SAwECjzrgdgzzwNYcert78OAMa7pDe7NABJoKb9dVVluU4ZoHKGHuxUGeEF887AHkAEGMLGkB7Y\nwe3SXi6pjs3C3buuAVZgz2ZtuyyuqixP9XI9SnWZBrnqMZFoPIwN6t07uOyCPfXej1qBajYN9y/b\n3a6uqixPO6lMKTTIVRdEovF+wEHAocDBwBhsWJdt63U5rAX4DHjfu7wHvF9VWV7jtCqVNzTI1TZF\novESbGgfgg3uQ7BzrOiB8u37Ehvq7+EFfFVl+XK3JalcpEGuNohE432wQf11Ngb3GDS0e9IybLC/\ni51GYVZVZXmD25KU32mQ57FINB7AtraP9y7HAMVOi8o/zcBbwOve5c2qyvKmbb9EqU1pkOeZSDS+\nM/Bt4FvYucXztV87WzUC/wJeAl6uqizP9IyWyoc0yHNcJBovwLa0vw2cjF2wQflHNXbGx5eAl6oq\ny9c7rkdlIQ3yHBSJxkPYFve5wKn0/phslRmNwIvAE8AL2reu2miQ54hINC7Ylve52KllB7utSPWy\nWuB5bKi/XFVZ3uy4HuWQBrnPRaLxA7ALSJwN7Oq4HOXGWmAKNtSn6lmo+UeD3Ici0fiu2Jb3udg1\nM5VqswJ4CnisqrL8DdfFqMzQIPcJb66S04AfA8di18tUalvmYhfXfkyHNOY2DfIs581fchk2wLXr\nRHXFSuAB4J6qyvIlrotRPU+DPEtFovE9gKuAi4B+jstRuaEVeBq4U7tdcosGeZaJROMTgKuxwwb1\n1HjVW97Bdrs8qSNe/E+DPAt4c5ycjQ3wgxyXo/LLcuAe4I6qyvJ1rotRXaNB7pB3ALMCuBEY5bgc\nld9WAzcDd1dVlje6LkZ1jga5I5Fo/FTsH46eMq+yyWJsw2KSjkf3Dw3yDItE40cAv8cOIVQqW30C\nXF9VWT7ZdSFq+zTIMyQSje8N/Dd2LLhSfvEO8F9VleWvui5EbZ0GeS+LROPDgRhwCXbFd6X8aCrw\ny6rK8jmuC1Fb0iDvJZFovAj4JfBzoMRxOUr1BAM8BPyiqrJ8jeti1EYa5L3AGwv+Z2BPx6Uo1RtW\nAj+vqix/2HUhytIg70GRaHwgcCtwMToXisp9rwGXV1WWf+66kHynQd5DItH46cDdwDDXtSiVQQ3A\nddgTitKui8lXGuTd5LXC/wc7paxS+WoWcFFVZflnrgvJRxrk3RCJxr8N/AXYyXUtSmWBBuBXwJ+0\ndZ5ZGuRdEInG+wJ3AD9wXYtSWegV4Bwd2ZI5GuSd5K3OMwWd3EqpbakCTquqLH/fdSH5QIO8E7xh\nhU+hCxv3mOp7LybQpy8EAkggyIiKO0g1rGfVc7fQum45of7DGPy9KMGiLadkX/XiHTT8+22CxWF2\nuuSeDY+vfO4WWtZUA5BurCNQVMJOF91FY/V81rxyDxIMMfjUX1BQNpJ0Yy0rn7uFoWfdiIjOGtzD\nGrCjWv7mupBcp0G+gyLR+JXAH9GzM3tU9b0XM6LidoLF4Q2PrX39QQJ9SwkfcSbJ2U+Rbqxl4ISL\ntnht4+IPkYIiVsdv2yTI21sz9S8ECksYcPQ5rJjyO8qO/09a1y2nfsGblB13KWun/pW+o79O0S5f\n67XPqLgHuLqqsrzFdSG5Spsg2xGJxgsj0fhDwJ/QEM+I+s/fomT/4wEo2f946j+b3eF2RTvvT7Bv\n6Vb3Y4yh/pN/UbLPOAAkEMK0NmFampBAiJa1y2hdv0pDvPddAUyLROM6KKCXaJBvQyQaHwnMAC50\nXEruEmH5k9exbNJVrJ/7EgCpuhpC/coACJYMJFVX06VdN1V/RLBkAAVlIwEIH3Emq164jeTspyg9\n+BRqZvyNAcee3zOfQ23PUcC7kWhcZ/3sBdrC3IpINH40dn1DPcGnFw0/7xZCpYNJ1dWw/MnrKBi0\n6foaItLlU2Tr5k/f0BoH6DNsd0Zc8EfAdssEvS+Llc/dggSCDDzuEoIlA7v4bmoHDAemRqLxq6oq\nyzvuC1Ndoi3yDkSi8XOws71piPeyUKk9bhwsGUDxXkfStHQBwZIBtNbakWuttWsIlAzo9H5NOkX9\ngjcpHjNuy+eMIfnGk4SPOpuaWY8xcMJF9DvwW6x79x/d+zBqR4SAuyPReNR1IblEg3wzkWj8fOBh\noI/rWnJdurmRdFP9htuNX75PnyG7Ujz6cOo+fA2Aug9fo3j04Z3ed2PVXAoGjSLUf8sBRnUfTqXv\n7ocS7FuKaWkCERCxt1Wm3ByJxm90XUSu0FEr7USi8QrgQfQLLiNaar5i5TO/tXfSaUr2HU/4qImk\nGtax6rlKWtetJNR/KIO/GyXYt5TW9atZ/dKdDDvT/v2vfP73NC1KkGpYR7B4AOFjzqP0wBMBWBW/\nncKd9qb0oJM3ec90SyMrJt/IsLN+gwRDNC7+kDWv3LtxSOIgXTo1w26pqizX1nk3aZB7ItH4RdjT\n7TXElcqsP1VVll/tugg/0yAHItH4JcAD6NSzSrlyP/DDqspyDaQuyPsgj0TjPwDuQ0NcKdcmAZfo\nhFudl9dBHonGL8eedaYhrlR2eBw4X8O8c/K2P9jrTtEQVyq7nAPc7LoIv8nLFrl3dtlrQIHrWpRS\nHbpA1wTdcXkX5JFofBTwLjDUdS1Kqa1qAiZUVZZ3PNGO2kReda1EovEi7FziGuJKZbdCYIrX8FLb\nkVdBDvwZONR1EUqpHTIceC4SjRe7LiTb5U2QR6Lxq4Hvu65DKdUpBwOTItG4DkrYhrwI8kg0fjzw\nB9d1KKW65EzgBtdFZLOcP9gZicYjwDvAIMelKKW6zgAnV1WWv+S6kGyU00EeicYDwCzgCNe1KKW6\nbQmwf1VleddWGslhud61chUa4krlipHA7a6LyEY52yKPROO7AwlAj3grlVtOqaosj7suIpvkcov8\nATTElcpF90ei8a2vup2HcjLII9H494HjXNehlOoVIwFdXaidnOtaiUTj/YFPsScTKKVyUytwSFVl\n+TzXhWSDXGyR/xoNcaVyXQi4V08UsnIqyCPR+L7Ala7rUEplxFHYk4XyXk4FObbfLOS6CKVUxujC\nzeRQH7k33PAzcu/LSSm1bSdVVZa/7LoIl3Ip9H5Kbn0epdSOyftWeU60yCPR+EBgMVDiuhallBNH\nVFWWv+W6CFdypQV7ORriSuWzvG6V+75FHonG+wBVwAjHpSil3DHAvlWV5Z+4LsSFXGiRn4uGuFL5\nToBrXRfhSi4E+c9cF6CUygrnRaLxIa6LcMHXQR6Jxo8GDnBdh1IqKxQAp7guwgVfBzlwqusClFJZ\n5TuuC3DB70F+susClFJZ5cRINN7XdRGZ5tsgj0TjO6PdKkqpTRUDJ7guItN8G+Roa1wp1bG8617x\nc5CXuy5AKZWVTvUWXs8bvvywkWi8EF0BSCnVsWHA4a6LyCRfBjkwAT0lXym1dXk1os2vQf4t1wUo\npbLaIa4LyCS/Bvn+rgtQSmW1vV0XkEl+DfI9XBeglMpqu+TTeHLfBXkkGg8Bu7iuQymV1QTY03UR\nmeK7IAd2RdflVEptX950r/gxyHd3XYBSyhf2cl1ApvgxyLV/XCm1I7RFnsU0yJVSO0KDPItpkCul\ndsSurgvIFD8G+XDXBSilfKHIdQGZ4scgD7ouQCnlC4WuC8gUDXKlVK7q47qATPHjeGw/fvlklJBO\nBzAmgEkHSKcFkw5gjGy8b9o/7z1ngqTTAdmwHd7zpt212XjfYG+3vVfaBMSYIGlj958maJ/fsH27\n+/Z52ey+d+091rY9gXaPB6XtvmHjexgmlwxs+bLQFLj+t1fZZa8/vCoLrrnDuK6jt/kuyG8ruGd+\nKQ3rxP4Bi/eHTtsfdkDsY7LhsU3ui71OSwCDYDZcb/q8EZENz0vb8/aa9vcDdhuELZ5HsNsFvMcA\nAhufQ9j4XNuXU8B7XQBo2y7Qth0b7hPo6LbIhi+5tuu8+fVybrPUnT942Puf9elzjOtalMo0McZn\nX1ax8JvAEa7LUNnp7gHhmfcN6H8oInkzz4baKpOoSOTFL3g/fshG1wWo7PWjmuSxTyxdXt3HmC9c\n16KcW+e6gEzxY5DXuS5AZbf9mpv3nLmwetgezc2zXNeinFrpuoBM8WOQV7suQGW/YmNKnl3y1dE/\nWJuciTH6Ky4/rXBdQKb4McirXBeg/OMnNcljH1u6fFGBMV+6rkVlnLbIs5j+QapOOaC5ea+ZC6uH\n7Nbc8obrWlRGLXddQKb4McirXBeg/KfEmH7PL1l21KU12tWSRz51XUCm+DHItUWuuuyqtcljH1m2\nfGGBMVWua1G9br7rAjLFf0EeS65AR66objiwqXnvGQurB+3a0vKm61pUr/rIdQGZ4r8gt951XYDy\nt37GlL5QvezIC2vWzcCYJtf1qB63LlGRWOy6iEzxa5DPdF2Ayg0/X1sz7uFly78MGbPQdS2qR811\nXUAmaZCrvDe2qXnMjIXVA3fWrpZcMt11AZnk1yB/A0i5LkLljlJj+r9YvezI7yfXzcCYZtf1qG6b\n5rqATPJnkMeS64F5rstQuef/rakZN2nZin+HjFnkuhbVZU1AXv268meQW9q9onrFIU1N+0xfVB0e\n1dI623UtqkvmJCoSDa6LyCQ/B/lzrgtQuat/2oT/Wb30iHOS67WrxX+muC4g0/w3H3mbWDiAnUBr\nhOtSVG57u6hw/mXDh/ZPiYxy8f7Vf61m/dz1hPqH2PN3ewKw/OnlrHt/HSJCsH+QUZeOomDglgsk\npepSLHloCY3VjYgIIy8ZSfHoYhbds4jmZfb7KVWfIlgcZPRvRlP3WR1L/3cpEhJ2vnxnCocXkqpL\nseieRUR+HkECktHP3gVpYFSiIrHMdSGZ5N8gB4iFbweudl2Gyn3JgCTP2mnEJ0sLQodn+r3rPq0j\nUBig+oHqDUGeakgR7GsXgFr96moalzQy8sKRW7y2+oFqivcqpmx8GenWNKbJECzZdOGoZY8vI1gc\nZOh3h7LorkWMOG8EzauaWffuOkacM4JlTyyj9MBS+u3Tr/c/bPe9nqhIHOe6iEzzc9cKwGOuC1D5\nIZw24Zerlx4+cd366RjTksn3Ltm7ZIvwbQtxgHRTGpEtW8qp+hR1n9YxcNxAAAKhwBb7McaQfDtJ\n+PCwt2NIN6dJN6eRoNC0oomWNS1+CXHI00zwd5DHkm8Dn7suQ+WP61avHf+Xr1YsCBrjfF785ZOX\n88nPPqHmzRqG/sfQLZ5vXtlMqDTEkr8s4fMbPmfJg0tIN6U32aZ+QT2h/iEKhxcCMKR8CNV/rmbV\nC6sYdMIgVkxewbDThmXk8/SAZuBp10W44O8gt/LyG1i5c3hj037TFy3pN6K1dY7LOoadMYwxt41h\nwJEDWP3a6i03SEPDwgbKjitj9E2jCRQGWPnCplN0J2cnGXD4gA33++7alz1u2IPdorvZL4IBdn32\nRfcsYvH9i2lNtvbqZ+qmlxIVibWui3AhF4L8z9hvYqUyJpxOD3hl8dLDzrBdLU7TLXxkmHXvbLk8\nZWhgiIKBBRTvUQxA/0P707Bw46g8kzIk323XrdKOMYYVz69gyHeGsOLZFQw/azhl48tY/WoHXxjZ\n4xHXBbji/yCPJZcAj7ouQ+WnX69eO/7+r1Z+HDRmaSbft+mrjfN8rX9vPYUjCrfYpmBAAQWDCmha\nZretnV9L0U5FG56v/aiWwhGFFJRtOdqlZlYNpV8rJdQvRLo5DQKI7T/PUh+Tp90q4PdRK21i4THY\nuYezfmyUyk01gcDaM0YO/3x5KPT1nt734nsXU/dJHa21rYT6hxj6vaHUzqu1YS7QZ1AfdrpwJwoG\nFtCytoUlDy0h8rMIYLtWljy0BNNq6DOkD6MuHbXhgGf1A9UU71FM2XFlm7xfuinNwtsXErkmgoSE\nuk/rWPrwUiToDUns4EsjC0xMVCT+7roIV3IjyAFi4SnA91yXofKXAfPrwWUzpvQrORqRkOt68sg8\nYGyiIpEjYdZ5/u9a2ajSdQEqvwnITavWjL93+cr5AWPy6oQUx27I5xCHXGqRA8TCU4FvuC5DqTWB\nwOozRg7/cmUodKjrWnLcO4mKRI93Z/lNLrXIAX6BPUVXKafK0ulBry1eesh31tdOwxidcrn3XO+6\ngGyQWy1ygFj4z8BlrstQqs2MvkUf/GTYkGFpkeGua8kxsxIViWNcF5ENcq1FDvBfQF6eFKCy07iG\nxgOnLloSGtyaesd1LTlGW+Oe3AvyWHIVcIPrMpRqb1A6PXjq4iWHlNfWTdeulh7xSqIi8brrIrJF\n7gW5dS+6gpDKMgJSuXL1+LtWrEoEjFnuuh4fWw/8wHUR2SQ3gzyWTAE/Qg98qiw0ob5h7GuLlwTK\nUqn3XNfiU9ckKhILXReRTXIzyAFiyX8Bt7ouQ6mODE6lh7y+aMnYk2xXizY4dtwriYrEn10XkW1y\nN8it64G3XRehVEcCELh15erxd6xY9UHAmBWu6/GBJHBJd3YgIheLSEJE5onIhyLy3R6qzancG364\nuVh4NPA+4JuZ8VX+WRkMrDx95IjqtcHgQa5ryWJnJSoST3X1xWKX6psOHGyMSYpIP2CIMebLHqvQ\nkVxvkUMs+TlwpesylNqWIan0kGmLlhz4zbr6adrV0qH7uxPinqHYA6W1AMaY2rYQF5HLRORtEflA\nRJ4WkWLv8Ukicq+IzBaRL0Rkgog8KCIfi8ikth2LyIki8qaIvCciT3lfEpsQkStFZL73a+AJ77ES\nb39zROT9tl8IIvJTEXnQu32A9+uheGsfLPdb5G1i4SeBs1yXodT2vFrc972fDx28sxEZ4rqWLJEA\nDktUJBq7sxMRCQIvAvsArwHPGGP+4T03yBiz2rv9W2C5MeYuL6yLgHOA7wAPA0cDH2G7bS/BLgL/\nDPBtY0ydiFwLFBpjbtrs/ZcCuxljmkRkgDGmRkT+G5hvjHlERAYAc4CDgAZgGnA78CvgKmPMrK19\nttxvkW90GfYfX6ms9s36hoNfXbw0PSCVmuu6lixQj52itlshDmDs+P2TgDOABcDtIhLznt5fRGaK\nSAI4D9iv3Uv/YWyLN4EN+ISxv5o+AiLAEcC+wCwRmQtUALt2UMI84FEROR9oW4zkRCDqvW4a9ktj\nF2//F2K/OKZvK8Qhn4I8llwHlAM6fldlvWGp1LBpi5YccHx+d7WkgHMTFYmPe2qHxppjjLkZOBs4\n3XtqEvBjY8wBwI3YQG3TtopHut3ttvsh7DoIrxpjxnqXfY0xHR2ULQfuBg4G3hY71bEAp7d77S7G\nmLbPuye2G2in7X2u/AlygFhyIfbnUcP2NlXKtSAE71ixasKtK1e/L8ascl2PA5clKhLP9dTORGQn\nETm43UNjgbbx6KXAMhEpwLbIO2M2cLSIjPbep0RE9trsvQPAzsaY14FrgTB2AMbLwE9ERLztDvKu\nw8CdwDhgkIicsa0C8ivIAWLJOcAFQJ4cHFB+d1Jd/SGvLF7aGk6lPnBdSwZdm6hIPNTD+ywA/iAi\nn3hdGROBq7znrgfeAmYBn3Rmp8aYldhukMdFZB7wJjBms82CwCNe1837wJ3GmBrgN15d80TkI+8+\n2L7xu40xC7D98JUiMnRrNeTPwc7NxcLXkueLUTS2GsY9VEdTClrTcMY+IW78hv1Feddbzdz9djPB\nAJTvGeL33yza4vUXP9fACwtaGVoifHjFxoP0EyfX8+kq2xtQ02gYUCTMvbwfsxa18sN4I32C8Pjp\nfdlzUJCaRsNZT9Xz0vnFBERX6tuWFKSuHjp45rTivuORnP7H+kOiIvEL10X4Sf4GOUAsfC9wuesy\nXDHGUNcC/foILSnDMQ/V8aeTimhogd/NbCJ+bjGFIWFFXZqhJVv+eJuxsJV+fYQLpjRsEuTt/fzl\nRsJFwg3jCzntyXru/HYRVTVppnzcyh+/VcQ1rzRyyl4hJkR0ZbQd9WJJ8TvRIYN2MyKDXNfSCyYB\nF+f7ij+dlX9dK5u6AvsfJy+JCP362IZdSxpaUvbIy73vNBM9ppDCkH2uoxAHGLdriLK+W28YGmP4\n+/wWztnfhnRBEOpbDPUt9va/16RZvC6tId5JJ9fVH/ry4qXN/VOpXJsY7h/YfnEN8U7K7yCPJQ22\n/+lR16W4kkobxt5Xy9Bb1/PN3UMcPirEgtVpZi5s5fC/1DJ+Uh1vL+narKszF6UYViLsOciu2v7L\nYwq5YEojN/+riR8f1odfTW3kt9/IyhXZs96IVGrE9EVL9h1X3zCN3PhZPRN75mbrdrdUW8jvIAeI\nJdPYcZ+PuC7FhWDA9l9X/6yUOUtTfLgiRWsa1jQYZl9Swq3fLOKsyfVdyorHEy2cs3/BhvtjhweZ\nfWkJr1eU8MXaNCP6BTDYPvXzn2lgeW2+jrLrmhCE7l6+csLvVq1+R4xZ47qebpgHnNoTY8XzlQY5\ntE17WwH81XUprgwoEr4RCfHS562M6i+ctk8BIsJhI4MEBFbVdy7IW9OGZz5pZWK7IG9jjOG3M5q4\nfnwhN05v4vcnFHHZwQXc+VZzT32cvPKd2vqvv1S9tKk0lU64rqUL3gCOT1Qkkq4L8TMN8ja2ZX4Z\ndsB+XlhZl6am0QZ0Q4vh1S9aGTM4wPfGFPB6lf2Fu2B1iuYUDC7u3CCJ//sixZjBAUb13/K/2N8+\naOHkPW3/en0LBMRe6lu6/5ny1U6tqREzFlXvc3R9w3QfdbX8HRvi+ThGvkfl96iVrYmFrwF+jz32\nl7PmLU9R8WwDqTSkDZy1XwE3jC+kOWW4+LlG5n6Vok8Q/nBiEcftFmLp+jSXPt/Ii+fZuXvOebqe\naVUpVtUbhpUIN04o5JKD+wBw4bMNHDEqyOWH9tnkPetbDOWP1fPK+cUUBIWZC1u54kU7JPGx0/qy\n9+Bgxv8dcs2z/Urm3DC4bE8jMtB1LdtwC/BLPbDZMzTItyYW/g9sv/lWZxxTKltVh4JLzhw5Ym1t\nILC/61o20wpckahIPOC6kFyiQb4tsfChwPPACNelKNVZLdByxfAhb8zu23e861o864EzExWJl10X\nkms0yLcnFt4ZiAMHuC5Fqa54pl/JnNjgsr2MnSbVlWqgPFGRyLWx71lBg3xHxMKlwOPY2cuU8p3F\noVD1mSOHJ+sCgf22v3WPex84JVGRWOrgvfOCjlrZEbHkeuBU4BeAjq1QvrNza+uomQur9zqsoXF6\nht96MjBOQ7x3aYu8s2Lhw4EnsBPKK+U7T5WWvHXToLIx2KlSe8s64CeJisTfevE9lEeDvCti4QHA\nX9g4Kb1SvrIwFFp81sjh6+sDgX17YffTgYpERWLhdrdUPUKDvDti4R8Ct7HpaiJK+UIzNP9g+NDZ\n7/YtGtdDu2wCrgNuS1QkdL6FDNIg765Y+ADgIeAQ16Uo1RVPlPab/btBA/fpZlfLPOD8REXCj9ME\n+J4GeU+IhYPAT7Fr/ekJRMp3qkKhRRNHDq+rDwT26eRL08AfgesSFQmdLMcRDfKeFAvvDtwPnOC6\nFKU6qxmaLh0x9K33i3a4q2UhcEGiIjGjN+tS26dB3hti4QuxrZQyx5Uo1WmP9u/3ZmXZwP0Q6b+V\nTVqBe7Gt8HUZLE1thQZ5b4mFh2IPhJ5Ljk++pXLPFwWhhWfvNLyhIRDYfBHh14CrEhWJj1zUpTqm\nQd7bYuHDsK3zY1yXolRnNEPTxSOGvfVBUeE44EvgZ4mKxLOu61Jb0iDPlFj4NKAS2NN1KUp1wrqb\nywb+8rFw6YO6gk/20iDPpFi4ALvg8/VALq6ArnJHC3AfcBOxpC78kOU0yF2wZ4b+FzbUSxxXo1R7\nKewEcTGlTDQEAAAGSUlEQVRiyX+7LkbtGA1yl2LhwcDVwI+B3pz3QqntaQb+BlRqgPuPBnk2iIXD\nwI+wJxUNdlyNyi+N2HmDfk8sudh1MaprNMizSSxcDPwncA2wk+NqVG6rxfaB/4FYcrnrYlT3aJBn\no1i4EDgP20o/2HE1Krd8gT2Z50FiyTWui1E9Q4M829lx6FcAE9FZFlXXpIEXgXuAl4gl9Y8+x2iQ\n+0UsXAZcBFwOjHZcjfKHVcBfgfuIJasc16J6kQa538TCAnwTuAw4BW2lq02lganYESh/J5ZsclyP\nygANcj+LhfsDp2HnczkOCLotSDn0DvAo8ASx5Feui1GZpUGeK2LhYdh+9HOBwx1XozLjc2x4P0Ys\nucB1McodDfJcZOdFPwf4HnblIp19MXfMB+LAZGLJOa6LUdlBgzzXxcIjgFO9y/FAX7cFqU5qwi5m\n/ALwArHkl47rUVlIgzyfxMJFwHjg28BJwN5uC1Jb8RV2uOALwKvEkrWO61FZToM8n8XCuwLHAuO8\n680XEVCZUQ3M8C7TiSU/cVyP8hkNcrVRLDwEuwBGW7CPRUfC9IbP2RjcM7S7RHWXBrnauli4FDgM\nOAgb6gdhu2M03HfcF8D77S7v6fBA1dNyNshFJAzcBRyFHbUxC/iJMSaZgff+DrCvMaZSRL4HLDDG\nzO/t980I289+ADbY2y4HAKUuy8oCDcBnwFw2hvZcYsle//+mVC4H+WTgQ2NMzLt/IzZcz8xwHZOA\nF4wxkzP5vhkXCw8H9sBOHzC63e09gDKHlfWkeuDf2K6Rz7zrtku1zmGiXMnJIBeR0cCrwGhjTMp7\nLIj9gzsB2Bm4CViPDZvXgSuMMWkRqQUeAE7Ejh442xizUkTGYqf9LMb+MV9sjFkrIldi5z9pBeYb\nY84WkQuBQ4HHsCMPkt7ldK/Eu4Eh2GC4zBizycEtERkP/Mm7a4Bxxpj1IvIL4CygEJhijPm1iHwd\nO5/GYdgujznARGPMhz3wT9kzYuGB2EAfCQzzLsM7uO7nqMJWYCWwwrt8BSzd7LIQWKphrbJRyHUB\nvWRfYG5biAMYY1IiMhfYD1iHDb59sX+gL2FPdZ+MXXrtHWPMT0XkBuDX2BV8/obtmpkuIjd5j18N\nRIHdjDFNIjKgfRHGmDdE5HnatchF5DXgcmPMZyJyOHZGuuM2q/8a4EfGmFki0g9oFJETsQs3H4bt\nKnpeRMYZY2Z47/Fb7BjxR7IqxAFiybXYU8jf2fZ24WLsWqYl2FDf2nUxENjs1R0FbDN23u2tXdZ7\nl6QGtPKzXA3yHTHHGPMFgIg8jh2tMRk76dCT3jaPAM94/e0DjDHTvcf/F3jKuz0PeFREngWe3dYb\neqF8FPCUyIaTLQs72HQWcJuIPAo8Y4yp9oL8RGzfK9hA2xM78uEm4G3sai9X7tjHz0KxZD32V4pS\nqhNyNcjnA2NFJGCMSQOISAB7YG4+MIotW3Bba5Ftr6VWjh2udyrwKxE5YBvbBoAaY8zYbe3QO0ga\nB04GZonIt7Ct8JuNMfd38JJB2GAvwM6GWLedmpVSOWTzn6c5wRjzObblel27h68D3vOeAzhMRHbz\nAn4i8C/v8QBwhnf7XOBf3kiXtSJyrPf494Hp3mt3Nsa8DlyLXUB5837e9XgjOowx64AvReRMALEO\n3Lx+EdnDGJMwxtyCbWmPAV4GLvZa9YjISBEZ6r3kfuB67ARKt+zwP5RSKifkaosc4BLgLhFpWxH8\nTe+xNm8D/8PGg51TvMfrsCF/HfbA10Tv8QrgPhEpxo4Nvgh7cPERr+tFgDuNMTXtuk0AngAe8A6K\nnoFdwu1eb/8F3vMfbFb71SLyDWw3z0fAP70++H2AN7391wLni8hJQIsx5jHvgO4bInKcMWZqF/7N\nlFI+lJOjVrZHRCYA1xhjTunguVpjjKvRE0op1Wk52bWilFL5JC9b5EoplUu0Ra6UUj6nQa6UUj6n\nQa6UUj6nQa6UUj6nQa6UUj6nQa6UUj6nQa6UUj6nQa6UUj6nQa6UUj6nQa6UUj6nQa6UUj6nQa6U\nUj6nQa6UUj6nQa6UUj6nQa6UUj6nQa6UUj6nQa6UUj6nQa6UUj6nQa6UUj6nQa6UUj6nQa6UUj6n\nQa6UUj6nQa6UUj6nQa6UUj6nQa6UUj73/wE2aJoYYJ+FRAAAAABJRU5ErkJggg==\n",
      "text/plain": [
       "<matplotlib.figure.Figure at 0x1f07d26f400>"
      ]
     },
     "metadata": {},
     "output_type": "display_data"
    }
   ],
   "source": [
    "from string import digits\n",
    "import matplotlib.pyplot as plt\n",
    "friendsData = pd.read_csv('FriendsData.csv');\n",
    "friendsData['Friends'] = friendsData['Friends'].replace({'\"':''}, regex=True)\n",
    "remove_digits = str.maketrans('', '', digits)\n",
    "for i in range(0, len(friendsData)):\n",
    "    friendsData['Friends'][i] = friendsData['Friends'][i].translate(remove_digits)\n",
    "\n",
    "pie_chart = friendsData.Friends.value_counts()\n",
    "\n",
    "plt.pie(pie_chart, labels = pie_chart.index.tolist(), autopct = '%1.02f%%')\n",
    "plt.show()"
   ]
  },
  {
   "cell_type": "code",
<<<<<<< HEAD
   "execution_count": 107,
   "metadata": {
    "collapsed": true
   },
   "outputs": [],
   "source": [
    "import numpy as np\n",
    "actorAge = pd.read_csv('ActorAge.csv')"
   ]
  },
  {
   "cell_type": "code",
   "execution_count": 108,
=======
   "execution_count": 5,
>>>>>>> ff1f4cc3bd26e51e4252457127e79c5020fb7489
   "metadata": {},
   "outputs": [
    {
     "data": {
<<<<<<< HEAD
      "text/plain": [
       "count    44.000000\n",
       "mean     44.977273\n",
       "std       9.749153\n",
       "min      29.000000\n",
       "25%      38.000000\n",
       "50%      43.500000\n",
       "75%      50.250000\n",
       "max      76.000000\n",
       "Name: Age, dtype: float64"
      ]
     },
     "execution_count": 108,
     "metadata": {},
     "output_type": "execute_result"
    }
   ],
   "source": [
    "actorAge['Age'].describe()"
   ]
  },
  {
   "cell_type": "code",
   "execution_count": 122,
   "metadata": {},
   "outputs": [
    {
     "name": "stdout",
     "output_type": "stream",
     "text": [
      "Mean: 44.9772727273\n",
      "Standard Deviation: 9.63773039193\n",
      "Variance: 92.8858471074\n",
      "Median: 43.5\n",
      "1st Quartile: 38.0\n",
      "3rd Quartile: 50.25\n",
      "IQR: 12.25\n",
      "Minimum: 29\n",
      "Maximum: 76\n",
      "Count: 44\n"
     ]
    }
   ],
   "source": [
    "print(\"Mean:\",np.mean(actorAge['Age']))\n",
    "print(\"Standard Deviation:\",np.std(actorAge['Age']))\n",
    "print(\"Variance:\",np.var(actorAge['Age']))\n",
    "print(\"Median:\",np.median(actorAge['Age']))\n",
    "print(\"1st Quartile:\",np.percentile(actorAge['Age'],25))\n",
    "print(\"3rd Quartile:\",np.percentile(actorAge['Age'], 75))\n",
    "print(\"IQR:\",np.percentile(actorAge['Age'], 75) - np.percentile(actorAge['Age'],25))\n",
    "print(\"Minimum:\",np.min(actorAge['Age']))\n",
    "print(\"Maximum:\",np.max(actorAge['Age']))\n",
    "print(\"Count:\",np.size(actorAge['Age']))\n"
=======
      "image/png": "iVBORw0KGgoAAAANSUhEUgAAAYIAAAEWCAYAAABrDZDcAAAABHNCSVQICAgIfAhkiAAAAAlwSFlz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\nIjAzKzknAjOzkvv/bA608vmqWzoAAAAASUVORK5CYII=\n",
      "text/plain": [
       "<matplotlib.figure.Figure at 0x2b069d9c5c0>"
      ]
     },
     "metadata": {},
     "output_type": "display_data"
    }
   ],
   "source": [
    "import matplotlib.pyplot as plt\n",
    "import numpy as np\n",
    "import pandas as pd\n",
    "\n",
    "\n",
    "\n",
    "\n",
    "actorsData = pd.read_csv('ActorsData.csv')\n",
    "plt.hist(actorsData['Age'], bins=8)\n",
    "plt.title(\"Best Actor Oscar Winners Ages\")\n",
    "plt.xlabel(\"Age of Best Actor Oscar Winners (1970-2013)\")\n",
    "plt.ylabel(\"Number of Actors\")\n",
    "\n",
    "plt.show()"
>>>>>>> ff1f4cc3bd26e51e4252457127e79c5020fb7489
   ]
  },
  {
   "cell_type": "code",
<<<<<<< HEAD
   "execution_count": 120,
=======
   "execution_count": 4,
>>>>>>> ff1f4cc3bd26e51e4252457127e79c5020fb7489
   "metadata": {
    "collapsed": true
   },
   "outputs": [],
   "source": []
  },
  {
   "cell_type": "code",
   "execution_count": null,
   "metadata": {
    "collapsed": true
   },
   "outputs": [],
   "source": []
  }
 ],
 "metadata": {
  "kernelspec": {
   "display_name": "Python 3",
   "language": "python",
   "name": "python3"
  },
  "language_info": {
   "codemirror_mode": {
    "name": "ipython",
    "version": 3
   },
   "file_extension": ".py",
   "mimetype": "text/x-python",
   "name": "python",
   "nbconvert_exporter": "python",
   "pygments_lexer": "ipython3",
   "version": "3.6.2"
  }
 },
 "nbformat": 4,
 "nbformat_minor": 2
}
