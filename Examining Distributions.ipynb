{
 "cells": [
  {
   "cell_type": "markdown",
   "metadata": {},
   "source": [
    "# Load Data and modify data in a column"
   ]
  },
  {
   "cell_type": "code",
   "execution_count": 46,
   "metadata": {
    "collapsed": true
   },
   "outputs": [],
   "source": [
    "import pandas as pd\n",
    "patientData = pd.read_csv('PatientData.csv')"
   ]
  },
  {
   "cell_type": "code",
   "execution_count": 47,
   "metadata": {
    "collapsed": true
   },
   "outputs": [],
   "source": [
    "patientData['Gender'] = patientData['Gender'].map({'Female':1, 'Male': 2})"
   ]
  },
  {
   "cell_type": "code",
   "execution_count": 48,
   "metadata": {
    "collapsed": true
   },
   "outputs": [],
   "source": [
    "patientData['Gender'].replace(1, 'Female',inplace=True)\n",
    "patientData['Gender'].replace(2, 'Male',inplace=True)"
   ]
  },
  {
   "cell_type": "markdown",
   "metadata": {},
   "source": [
    "# Format the data and show a pie chart of differences in a column"
   ]
  },
  {
   "cell_type": "code",
   "execution_count": 59,
   "metadata": {},
   "outputs": [
    {
     "data": {
      "image/png": "[encoded data removed]",
      "text/plain": [
       "<matplotlib.figure.Figure at 0x1685ae3fb38>"
      ]
     },
     "metadata": {},
     "output_type": "display_data"
    }
   ],
   "source": [
    "from string import digits\n",
    "import matplotlib.pyplot as plt\n",
    "friendsData = pd.read_csv('FriendsData.csv');\n",
    "friendsData['Friends'] = friendsData['Friends'].replace({'\"':''}, regex=True)\n",
    "#friendsData['Friends'] = friendsData['Friends'].replace({' ':''}, regex=True)\n",
    "remove_digits = str.maketrans('', '', digits)\n",
    "for i in range(0, len(friendsData)):\n",
    "    friendsData['Friends'][i] = friendsData['Friends'][i].translate(remove_digits)\n",
    "\n",
    "pie_chart = friendsData.Friends.value_counts()\n",
    "\n",
    "plt.pie(pie_chart, labels = pie_chart.index.tolist(), autopct = '%1.02f%%')\n",
    "plt.title('Easiest to makes friends with')\n",
    "plt.show()"
   ]
  },
  {
   "cell_type": "markdown",
   "metadata": {},
   "source": [
    "# Make a histogram"
   ]
  },
  {
   "cell_type": "code",
   "execution_count": 60,
   "metadata": {},
   "outputs": [
    {
     "data": {
      "image/png": "[encoded data removed]",
      "text/plain": [
       "<matplotlib.figure.Figure at 0x1685ae41e80>"
      ]
     },
     "metadata": {},
     "output_type": "display_data"
    }
   ],
   "source": [
    "import matplotlib.pyplot as plt\n",
    "import numpy as np\n",
    "import pandas as pd\n",
    "\n",
    "actorsData = pd.read_csv('ActorsData.csv')\n",
    "plt.hist(actorsData['Age'], bins=8)\n",
    "plt.title(\"Best Actor Oscar Winners Ages\")\n",
    "plt.xlabel(\"Age of Best Actor Oscar Winners (1970-2013)\")\n",
    "plt.ylabel(\"Number of Actors\")\n",
    "\n",
    "plt.show()"
   ]
  },
  {
   "cell_type": "markdown",
   "metadata": {},
   "source": [
    "# Mean, Median, Standard Deviation, Count, 1st Quartile, 3rd Quartile, Min, Max, Variance, IQR"
   ]
  },
  {
   "cell_type": "code",
   "execution_count": 61,
   "metadata": {
    "collapsed": true
   },
   "outputs": [],
   "source": [
    "import numpy as np\n",
    "actorAge = pd.read_csv('ActorAge.csv')"
   ]
  },
  {
   "cell_type": "code",
   "execution_count": 62,
   "metadata": {},
   "outputs": [
    {
     "data": {
      "text/plain": [
       "count    44.000000\n",
       "mean     44.977273\n",
       "std       9.749153\n",
       "min      29.000000\n",
       "25%      38.000000\n",
       "50%      43.500000\n",
       "75%      50.250000\n",
       "max      76.000000\n",
       "Name: Age, dtype: float64"
      ]
     },
     "execution_count": 62,
     "metadata": {},
     "output_type": "execute_result"
    }
   ],
   "source": [
    "actorAge['Age'].describe()"
   ]
  },
  {
   "cell_type": "code",
   "execution_count": 63,
   "metadata": {},
   "outputs": [
    {
     "name": "stdout",
     "output_type": "stream",
     "text": [
      "Mean: 44.97727272727273\n",
      "Standard Deviation: 9.637730391925167\n",
      "Variance: 92.88584710743802\n",
      "Median: 43.5\n",
      "1st Quartile: 38.0\n",
      "3rd Quartile: 50.25\n",
      "IQR: 12.25\n",
      "Minimum: 29\n",
      "Maximum: 76\n",
      "Count: 44\n"
     ]
    }
   ],
   "source": [
    "print(\"Mean:\",np.mean(actorAge['Age']))\n",
    "print(\"Standard Deviation:\",np.std(actorAge['Age']))\n",
    "print(\"Variance:\",np.var(actorAge['Age']))\n",
    "print(\"Median:\",np.median(actorAge['Age']))\n",
    "print(\"1st Quartile:\",np.percentile(actorAge['Age'],25))\n",
    "print(\"3rd Quartile:\",np.percentile(actorAge['Age'], 75))\n",
    "print(\"IQR:\",np.percentile(actorAge['Age'], 75) - np.percentile(actorAge['Age'],25))\n",
    "print(\"Minimum:\",np.min(actorAge['Age']))\n",
    "print(\"Maximum:\",np.max(actorAge['Age']))\n",
    "print(\"Count:\",np.size(actorAge['Age']))"
   ]
  },
  {
   "cell_type": "markdown",
   "metadata": {},
   "source": [
    "# Box Plot C->Q"
   ]
  },
  {
   "cell_type": "markdown",
   "metadata": {},
   "source": [
    "# Boxplot"
   ]
  },
  {
   "cell_type": "code",
   "execution_count": 82,
   "metadata": {
    "collapsed": true
   },
   "outputs": [],
   "source": [
    "import pandas as pd\n",
    "import matplotlib.pyplot as plt\n",
    "gradData = pd.read_csv('GraduationData.csv')\n"
   ]
  },
  {
   "cell_type": "code",
   "execution_count": 83,
   "metadata": {},
   "outputs": [
    {
     "data": {
      "text/html": [
       "<div>\n",
       "<style>\n",
       "    .dataframe thead tr:only-child th {\n",
       "        text-align: right;\n",
       "    }\n",
       "\n",
       "    .dataframe thead th {\n",
       "        text-align: left;\n",
       "    }\n",
       "\n",
       "    .dataframe tbody tr th {\n",
       "        vertical-align: top;\n",
       "    }\n",
       "</style>\n",
       "<table border=\"1\" class=\"dataframe\">\n",
       "  <thead>\n",
       "    <tr style=\"text-align: right;\">\n",
       "      <th></th>\n",
       "      <th>Unnamed: 0</th>\n",
       "      <th>College.A</th>\n",
       "      <th>College.B</th>\n",
       "      <th>College.C</th>\n",
       "      <th>College.D</th>\n",
       "      <th>College.E</th>\n",
       "      <th>College.F</th>\n",
       "    </tr>\n",
       "  </thead>\n",
       "  <tbody>\n",
       "    <tr>\n",
       "      <th>count</th>\n",
       "      <td>8.00000</td>\n",
       "      <td>8.000000</td>\n",
       "      <td>8.000000</td>\n",
       "      <td>8.000000</td>\n",
       "      <td>8.000000</td>\n",
       "      <td>8.000000</td>\n",
       "      <td>8.000000</td>\n",
       "    </tr>\n",
       "    <tr>\n",
       "      <th>mean</th>\n",
       "      <td>4.50000</td>\n",
       "      <td>60.962500</td>\n",
       "      <td>71.287500</td>\n",
       "      <td>65.175000</td>\n",
       "      <td>79.112500</td>\n",
       "      <td>60.775000</td>\n",
       "      <td>72.775000</td>\n",
       "    </tr>\n",
       "    <tr>\n",
       "      <th>std</th>\n",
       "      <td>2.44949</td>\n",
       "      <td>11.955027</td>\n",
       "      <td>3.061483</td>\n",
       "      <td>8.279018</td>\n",
       "      <td>3.853547</td>\n",
       "      <td>5.892307</td>\n",
       "      <td>11.116108</td>\n",
       "    </tr>\n",
       "    <tr>\n",
       "      <th>min</th>\n",
       "      <td>1.00000</td>\n",
       "      <td>43.200000</td>\n",
       "      <td>67.300000</td>\n",
       "      <td>54.500000</td>\n",
       "      <td>74.100000</td>\n",
       "      <td>54.500000</td>\n",
       "      <td>57.700000</td>\n",
       "    </tr>\n",
       "    <tr>\n",
       "      <th>25%</th>\n",
       "      <td>2.75000</td>\n",
       "      <td>50.950000</td>\n",
       "      <td>69.550000</td>\n",
       "      <td>56.575000</td>\n",
       "      <td>76.650000</td>\n",
       "      <td>56.875000</td>\n",
       "      <td>65.050000</td>\n",
       "    </tr>\n",
       "    <tr>\n",
       "      <th>50%</th>\n",
       "      <td>4.50000</td>\n",
       "      <td>63.750000</td>\n",
       "      <td>70.150000</td>\n",
       "      <td>67.650000</td>\n",
       "      <td>79.000000</td>\n",
       "      <td>59.150000</td>\n",
       "      <td>72.000000</td>\n",
       "    </tr>\n",
       "    <tr>\n",
       "      <th>75%</th>\n",
       "      <td>6.25000</td>\n",
       "      <td>70.500000</td>\n",
       "      <td>73.050000</td>\n",
       "      <td>71.575000</td>\n",
       "      <td>81.100000</td>\n",
       "      <td>63.700000</td>\n",
       "      <td>81.275000</td>\n",
       "    </tr>\n",
       "    <tr>\n",
       "      <th>max</th>\n",
       "      <td>8.00000</td>\n",
       "      <td>73.800000</td>\n",
       "      <td>76.700000</td>\n",
       "      <td>74.800000</td>\n",
       "      <td>84.600000</td>\n",
       "      <td>71.300000</td>\n",
       "      <td>87.400000</td>\n",
       "    </tr>\n",
       "  </tbody>\n",
       "</table>\n",
       "</div>"
      ],
      "text/plain": [
       "       Unnamed: 0  College.A  College.B  College.C  College.D  College.E  \\\n",
       "count     8.00000   8.000000   8.000000   8.000000   8.000000   8.000000   \n",
       "mean      4.50000  60.962500  71.287500  65.175000  79.112500  60.775000   \n",
       "std       2.44949  11.955027   3.061483   8.279018   3.853547   5.892307   \n",
       "min       1.00000  43.200000  67.300000  54.500000  74.100000  54.500000   \n",
       "25%       2.75000  50.950000  69.550000  56.575000  76.650000  56.875000   \n",
       "50%       4.50000  63.750000  70.150000  67.650000  79.000000  59.150000   \n",
       "75%       6.25000  70.500000  73.050000  71.575000  81.100000  63.700000   \n",
       "max       8.00000  73.800000  76.700000  74.800000  84.600000  71.300000   \n",
       "\n",
       "       College.F  \n",
       "count   8.000000  \n",
       "mean   72.775000  \n",
       "std    11.116108  \n",
       "min    57.700000  \n",
       "25%    65.050000  \n",
       "50%    72.000000  \n",
       "75%    81.275000  \n",
       "max    87.400000  "
      ]
     },
     "execution_count": 83,
     "metadata": {},
     "output_type": "execute_result"
    }
   ],
   "source": [
    "gradData.describe()"
   ]
  },
  {
   "cell_type": "code",
   "execution_count": 84,
   "metadata": {},
   "outputs": [
    {
     "data": {
      "text/plain": [
       "(40, 100)"
      ]
     },
     "execution_count": 84,
     "metadata": {},
     "output_type": "execute_result"
    }
   ],
   "source": [
    "plt.title(\"Graduation Rates among colleges in percentage form\")\n",
    "box1 = plt.boxplot(gradData['College.A'], vert = False, labels=['College.A'])\n",
    "plt.xlim(40,100)\n",
    "plt.figure()\n",
    "box2 = plt.boxplot(gradData['College.B'], vert = False, labels=['College.B'])\n",
    "plt.xlim(40,100)\n",
    "plt.figure()\n",
    "plt.boxplot(gradData['College.C'], vert = False, labels=['College.C'])\n",
    "plt.xlim(40,100)\n",
    "plt.figure()\n",
    "plt.boxplot(gradData['College.D'], vert = False, labels=['College.D'])\n",
    "plt.xlim(40,100)\n",
    "plt.figure()\n",
    "plt.boxplot(gradData['College.E'], vert = False, labels=['College.E'])\n",
    "plt.xlim(40,100)\n",
    "plt.figure()\n",
    "plt.boxplot(gradData['College.F'], vert = False, labels=['College.F'])\n",
    "plt.xlim(40,100)\n"
   ]
  },
  {
   "cell_type": "code",
   "execution_count": 85,
   "metadata": {},
   "outputs": [
    {
     "data": {
      "image/png": "[encoded data removed]",
      "text/plain": [
       "<matplotlib.figure.Figure at 0x1685a99f550>"
      ]
     },
     "metadata": {},
     "output_type": "display_data"
    },
    {
     "data": {
      "image/png": "[encoded data removed]",
      "text/plain": [
       "<matplotlib.figure.Figure at 0x1685c2dca58>"
      ]
     },
     "metadata": {},
     "output_type": "display_data"
    },
    {
     "data": {
      "image/png": "[encoded data removed]",
      "text/plain": [
       "<matplotlib.figure.Figure at 0x1685c671470>"
      ]
     },
     "metadata": {},
     "output_type": "display_data"
    },
    {
     "data": {
      "image/png": "[encoded data removed]",
      "text/plain": [
       "<matplotlib.figure.Figure at 0x1685ab2f208>"
      ]
     },
     "metadata": {},
     "output_type": "display_data"
    },
    {
     "data": {
      "image/png": "[encoded data removed]",
      "text/plain": [
       "<matplotlib.figure.Figure at 0x1685aa23710>"
      ]
     },
     "metadata": {},
     "output_type": "display_data"
    },
    {
     "data": {
      "image/png": "[encoded data removed]",
      "text/plain": [
       "<matplotlib.figure.Figure at 0x1685c59aeb8>"
      ]
     },
     "metadata": {},
     "output_type": "display_data"
    }
   ],
   "source": [
    "plt.show()"
   ]
  },
  {
   "cell_type": "markdown",
   "metadata": {},
   "source": [
    "# Standard Deviation explored"
   ]
  },
  {
   "cell_type": "code",
   "execution_count": 86,
   "metadata": {},
   "outputs": [
    {
     "data": {
      "text/plain": [
       "Unnamed: 0    7.788881\n",
       "Class.I       1.539601\n",
       "Class.II      3.925227\n",
       "Class.III     2.581989\n",
       "dtype: float64"
      ]
     },
     "execution_count": 86,
     "metadata": {},
     "output_type": "execute_result"
    }
   ],
   "source": [
    "import pandas as pd\n",
    "import numpy as np\n",
    "ratings = pd.read_csv('Ratings.csv')\n",
    "np.std(ratings)"
   ]
  },
  {
   "cell_type": "markdown",
   "metadata": {
    "collapsed": true
   },
   "source": [
    "# Homework"
   ]
  },
  {
   "cell_type": "code",
   "execution_count": 87,
   "metadata": {},
   "outputs": [
    {
     "data": {
      "text/html": [
       "<div>\n",
       "<style>\n",
       "    .dataframe thead tr:only-child th {\n",
       "        text-align: right;\n",
       "    }\n",
       "\n",
       "    .dataframe thead th {\n",
       "        text-align: left;\n",
       "    }\n",
       "\n",
       "    .dataframe tbody tr th {\n",
       "        vertical-align: top;\n",
       "    }\n",
       "</style>\n",
       "<table border=\"1\" class=\"dataframe\">\n",
       "  <thead>\n",
       "    <tr style=\"text-align: right;\">\n",
       "      <th></th>\n",
       "      <th>Unnamed: 0</th>\n",
       "      <th>Alcohol</th>\n",
       "      <th>Height</th>\n",
       "      <th>Cheat</th>\n",
       "    </tr>\n",
       "  </thead>\n",
       "  <tbody>\n",
       "    <tr>\n",
       "      <th>count</th>\n",
       "      <td>236.000000</td>\n",
       "      <td>206.000000</td>\n",
       "      <td>236.000000</td>\n",
       "      <td>236.000000</td>\n",
       "    </tr>\n",
       "    <tr>\n",
       "      <th>mean</th>\n",
       "      <td>118.500000</td>\n",
       "      <td>4.538835</td>\n",
       "      <td>66.765890</td>\n",
       "      <td>0.084746</td>\n",
       "    </tr>\n",
       "    <tr>\n",
       "      <th>std</th>\n",
       "      <td>68.271517</td>\n",
       "      <td>6.915938</td>\n",
       "      <td>3.814936</td>\n",
       "      <td>0.279095</td>\n",
       "    </tr>\n",
       "    <tr>\n",
       "      <th>min</th>\n",
       "      <td>1.000000</td>\n",
       "      <td>0.000000</td>\n",
       "      <td>59.500000</td>\n",
       "      <td>0.000000</td>\n",
       "    </tr>\n",
       "    <tr>\n",
       "      <th>25%</th>\n",
       "      <td>59.750000</td>\n",
       "      <td>0.000000</td>\n",
       "      <td>64.000000</td>\n",
       "      <td>0.000000</td>\n",
       "    </tr>\n",
       "    <tr>\n",
       "      <th>50%</th>\n",
       "      <td>118.500000</td>\n",
       "      <td>1.000000</td>\n",
       "      <td>67.000000</td>\n",
       "      <td>0.000000</td>\n",
       "    </tr>\n",
       "    <tr>\n",
       "      <th>75%</th>\n",
       "      <td>177.250000</td>\n",
       "      <td>7.000000</td>\n",
       "      <td>69.125000</td>\n",
       "      <td>0.000000</td>\n",
       "    </tr>\n",
       "    <tr>\n",
       "      <th>max</th>\n",
       "      <td>236.000000</td>\n",
       "      <td>36.000000</td>\n",
       "      <td>76.500000</td>\n",
       "      <td>1.000000</td>\n",
       "    </tr>\n",
       "  </tbody>\n",
       "</table>\n",
       "</div>"
      ],
      "text/plain": [
       "       Unnamed: 0     Alcohol      Height       Cheat\n",
       "count  236.000000  206.000000  236.000000  236.000000\n",
       "mean   118.500000    4.538835   66.765890    0.084746\n",
       "std     68.271517    6.915938    3.814936    0.279095\n",
       "min      1.000000    0.000000   59.500000    0.000000\n",
       "25%     59.750000    0.000000   64.000000    0.000000\n",
       "50%    118.500000    1.000000   67.000000    0.000000\n",
       "75%    177.250000    7.000000   69.125000    0.000000\n",
       "max    236.000000   36.000000   76.500000    1.000000"
      ]
     },
     "execution_count": 87,
     "metadata": {},
     "output_type": "execute_result"
    }
   ],
   "source": [
    "import pandas as pd\n",
    "import numpy as np\n",
    "drinking = pd.read_csv('Drinking.csv')\n",
    "drinking.describe()"
   ]
  },
  {
   "cell_type": "code",
   "execution_count": 88,
   "metadata": {},
   "outputs": [
    {
     "name": "stdout",
     "output_type": "stream",
     "text": [
      "1.0\n"
     ]
    }
   ],
   "source": [
    "drinking = drinking.dropna()\n",
    "print(np.median(drinking['Alcohol']))"
   ]
  },
  {
   "cell_type": "code",
   "execution_count": 89,
   "metadata": {},
   "outputs": [
    {
     "data": {
      "image/png": "[encoded data removed]",
      "text/plain": [
       "<matplotlib.figure.Figure at 0x1685c6600b8>"
      ]
     },
     "metadata": {},
     "output_type": "display_data"
    }
   ],
   "source": [
    "import matplotlib.pyplot as plt\n",
    "plt.hist(drinking['Alcohol'], bins = 15)\n",
    "plt.title(\"Drinking habits of college students\")\n",
    "plt.xlabel(\"Number of drinks per week\")\n",
    "plt.ylabel(\"Number of students\")\n",
    "\n",
    "plt.show()"
   ]
  },
  {
   "cell_type": "code",
   "execution_count": 90,
   "metadata": {},
   "outputs": [
    {
     "data": {
      "text/html": [
       "<div>\n",
       "<style>\n",
       "    .dataframe thead tr:only-child th {\n",
       "        text-align: right;\n",
       "    }\n",
       "\n",
       "    .dataframe thead th {\n",
       "        text-align: left;\n",
       "    }\n",
       "\n",
       "    .dataframe tbody tr th {\n",
       "        vertical-align: top;\n",
       "    }\n",
       "</style>\n",
       "<table border=\"1\" class=\"dataframe\">\n",
       "  <thead>\n",
       "    <tr style=\"text-align: right;\">\n",
       "      <th></th>\n",
       "      <th>Unnamed: 0</th>\n",
       "      <th>Alcohol</th>\n",
       "      <th>Height</th>\n",
       "      <th>Cheat</th>\n",
       "    </tr>\n",
       "  </thead>\n",
       "  <tbody>\n",
       "    <tr>\n",
       "      <th>count</th>\n",
       "      <td>236.000000</td>\n",
       "      <td>206.000000</td>\n",
       "      <td>236.000000</td>\n",
       "      <td>236.000000</td>\n",
       "    </tr>\n",
       "    <tr>\n",
       "      <th>mean</th>\n",
       "      <td>118.500000</td>\n",
       "      <td>4.538835</td>\n",
       "      <td>66.765890</td>\n",
       "      <td>0.084746</td>\n",
       "    </tr>\n",
       "    <tr>\n",
       "      <th>std</th>\n",
       "      <td>68.271517</td>\n",
       "      <td>6.915938</td>\n",
       "      <td>3.814936</td>\n",
       "      <td>0.279095</td>\n",
       "    </tr>\n",
       "    <tr>\n",
       "      <th>min</th>\n",
       "      <td>1.000000</td>\n",
       "      <td>0.000000</td>\n",
       "      <td>59.500000</td>\n",
       "      <td>0.000000</td>\n",
       "    </tr>\n",
       "    <tr>\n",
       "      <th>25%</th>\n",
       "      <td>59.750000</td>\n",
       "      <td>0.000000</td>\n",
       "      <td>64.000000</td>\n",
       "      <td>0.000000</td>\n",
       "    </tr>\n",
       "    <tr>\n",
       "      <th>50%</th>\n",
       "      <td>118.500000</td>\n",
       "      <td>1.000000</td>\n",
       "      <td>67.000000</td>\n",
       "      <td>0.000000</td>\n",
       "    </tr>\n",
       "    <tr>\n",
       "      <th>75%</th>\n",
       "      <td>177.250000</td>\n",
       "      <td>7.000000</td>\n",
       "      <td>69.125000</td>\n",
       "      <td>0.000000</td>\n",
       "    </tr>\n",
       "    <tr>\n",
       "      <th>max</th>\n",
       "      <td>236.000000</td>\n",
       "      <td>36.000000</td>\n",
       "      <td>76.500000</td>\n",
       "      <td>1.000000</td>\n",
       "    </tr>\n",
       "  </tbody>\n",
       "</table>\n",
       "</div>"
      ],
      "text/plain": [
       "       Unnamed: 0     Alcohol      Height       Cheat\n",
       "count  236.000000  206.000000  236.000000  236.000000\n",
       "mean   118.500000    4.538835   66.765890    0.084746\n",
       "std     68.271517    6.915938    3.814936    0.279095\n",
       "min      1.000000    0.000000   59.500000    0.000000\n",
       "25%     59.750000    0.000000   64.000000    0.000000\n",
       "50%    118.500000    1.000000   67.000000    0.000000\n",
       "75%    177.250000    7.000000   69.125000    0.000000\n",
       "max    236.000000   36.000000   76.500000    1.000000"
      ]
     },
     "execution_count": 90,
     "metadata": {},
     "output_type": "execute_result"
    }
   ],
   "source": [
    "import pandas as pd\n",
    "import numpy as np\n",
    "cheating = pd.read_csv('Drinking.csv')\n",
    "cheating.describe()"
   ]
  },
  {
   "cell_type": "code",
   "execution_count": 91,
   "metadata": {},
   "outputs": [
    {
     "data": {
      "image/png": "[encoded data removed]",
      "text/plain": [
       "<matplotlib.figure.Figure at 0x16858da69e8>"
      ]
     },
     "metadata": {},
     "output_type": "display_data"
    }
   ],
   "source": [
    "import matplotlib.pyplot as plt\n",
    "\n",
    "pie_chart = cheating.Cheat.value_counts()\n",
    "\n",
    "plt.pie(pie_chart, labels = pie_chart.index.tolist(), autopct = '%1.02f%%')\n",
    "plt.legend(['No', 'Yes'])\n",
    "plt.title('Report on cheating')\n",
    "plt.show()"
   ]
  },
  {
   "cell_type": "markdown",
   "metadata": {
    "collapsed": true
   },
   "source": [
    "# Two way table C -> C"
   ]
  },
  {
   "cell_type": "code",
   "execution_count": 92,
   "metadata": {
    "collapsed": true
   },
   "outputs": [],
   "source": [
    "import pandas as pd\n",
    "import array\n",
    "nightLight = pd.read_csv('Nightlight.csv')"
   ]
  },
  {
   "cell_type": "code",
   "execution_count": 93,
   "metadata": {},
   "outputs": [
    {
     "data": {
      "text/html": [
       "<div>\n",
       "<style>\n",
       "    .dataframe thead tr:only-child th {\n",
       "        text-align: right;\n",
       "    }\n",
       "\n",
       "    .dataframe thead th {\n",
       "        text-align: left;\n",
       "    }\n",
       "\n",
       "    .dataframe tbody tr th {\n",
       "        vertical-align: top;\n",
       "    }\n",
       "</style>\n",
       "<table border=\"1\" class=\"dataframe\">\n",
       "  <thead>\n",
       "    <tr style=\"text-align: right;\">\n",
       "      <th>Nearsightedness</th>\n",
       "      <th>No</th>\n",
       "      <th>Yes</th>\n",
       "      <th>All</th>\n",
       "    </tr>\n",
       "    <tr>\n",
       "      <th>Light</th>\n",
       "      <th></th>\n",
       "      <th></th>\n",
       "      <th></th>\n",
       "    </tr>\n",
       "  </thead>\n",
       "  <tbody>\n",
       "    <tr>\n",
       "      <th>lamp</th>\n",
       "      <td>34</td>\n",
       "      <td>41</td>\n",
       "      <td>75</td>\n",
       "    </tr>\n",
       "    <tr>\n",
       "      <th>night light</th>\n",
       "      <td>153</td>\n",
       "      <td>79</td>\n",
       "      <td>232</td>\n",
       "    </tr>\n",
       "    <tr>\n",
       "      <th>no light</th>\n",
       "      <td>155</td>\n",
       "      <td>17</td>\n",
       "      <td>172</td>\n",
       "    </tr>\n",
       "    <tr>\n",
       "      <th>All</th>\n",
       "      <td>342</td>\n",
       "      <td>137</td>\n",
       "      <td>479</td>\n",
       "    </tr>\n",
       "  </tbody>\n",
       "</table>\n",
       "</div>"
      ],
      "text/plain": [
       "Nearsightedness   No  Yes  All\n",
       "Light                         \n",
       "lamp              34   41   75\n",
       "night light      153   79  232\n",
       "no light         155   17  172\n",
       "All              342  137  479"
      ]
     },
     "execution_count": 93,
     "metadata": {},
     "output_type": "execute_result"
    }
   ],
   "source": [
    "pd.crosstab(nightLight.Light, nightLight.Nearsightedness, margins = True)"
   ]
  },
  {
   "cell_type": "code",
   "execution_count": 94,
   "metadata": {},
   "outputs": [
    {
     "data": {
      "text/html": [
       "<div>\n",
       "<style>\n",
       "    .dataframe thead tr:only-child th {\n",
       "        text-align: right;\n",
       "    }\n",
       "\n",
       "    .dataframe thead th {\n",
       "        text-align: left;\n",
       "    }\n",
       "\n",
       "    .dataframe tbody tr th {\n",
       "        vertical-align: top;\n",
       "    }\n",
       "</style>\n",
       "<table border=\"1\" class=\"dataframe\">\n",
       "  <thead>\n",
       "    <tr style=\"text-align: right;\">\n",
       "      <th>Nearsightedness</th>\n",
       "      <th>No</th>\n",
       "      <th>Yes</th>\n",
       "      <th>All</th>\n",
       "    </tr>\n",
       "    <tr>\n",
       "      <th>Light</th>\n",
       "      <th></th>\n",
       "      <th></th>\n",
       "      <th></th>\n",
       "    </tr>\n",
       "  </thead>\n",
       "  <tbody>\n",
       "    <tr>\n",
       "      <th>lamp</th>\n",
       "      <td>0.453333</td>\n",
       "      <td>0.546667</td>\n",
       "      <td>1.0</td>\n",
       "    </tr>\n",
       "    <tr>\n",
       "      <th>night light</th>\n",
       "      <td>0.659483</td>\n",
       "      <td>0.340517</td>\n",
       "      <td>1.0</td>\n",
       "    </tr>\n",
       "    <tr>\n",
       "      <th>no light</th>\n",
       "      <td>0.901163</td>\n",
       "      <td>0.098837</td>\n",
       "      <td>1.0</td>\n",
       "    </tr>\n",
       "    <tr>\n",
       "      <th>All</th>\n",
       "      <td>0.713987</td>\n",
       "      <td>0.286013</td>\n",
       "      <td>1.0</td>\n",
       "    </tr>\n",
       "  </tbody>\n",
       "</table>\n",
       "</div>"
      ],
      "text/plain": [
       "Nearsightedness        No       Yes  All\n",
       "Light                                   \n",
       "lamp             0.453333  0.546667  1.0\n",
       "night light      0.659483  0.340517  1.0\n",
       "no light         0.901163  0.098837  1.0\n",
       "All              0.713987  0.286013  1.0"
      ]
     },
     "execution_count": 94,
     "metadata": {},
     "output_type": "execute_result"
    }
   ],
   "source": [
    "#axis = 0 is columns, axis = 1 is rows\n",
    "pd.crosstab(nightLight.Light, nightLight.Nearsightedness, margins = True).apply(lambda r: (r/r.sum()) * 2, axis =1)"
   ]
  },
  {
   "cell_type": "markdown",
   "metadata": {
    "collapsed": true
   },
   "source": [
    "# Scatterplot"
   ]
  },
  {
   "cell_type": "code",
   "execution_count": 95,
   "metadata": {
    "collapsed": true
   },
   "outputs": [],
   "source": [
    "import pandas as pd\n",
    "import matplotlib.pyplot as plt\n",
    "heightData = pd.read_csv('HeightData.csv')"
   ]
  },
  {
   "cell_type": "code",
   "execution_count": 96,
   "metadata": {},
   "outputs": [
    {
     "data": {
      "image/png": "[encoded data removed]",
      "text/plain": [
       "<matplotlib.figure.Figure at 0x1685c110cf8>"
      ]
     },
     "metadata": {},
     "output_type": "display_data"
    }
   ],
   "source": [
    "plt.scatter(x=heightData.height, y=heightData.weight, color='b')\n",
    "plt.title('Relationship between height and weight')\n",
    "plt.xlabel('Height in inches')\n",
    "plt.ylabel('Weight in pounds')\n",
    "plt.show()"
   ]
  },
  {
   "cell_type": "code",
   "execution_count": 97,
   "metadata": {
    "collapsed": true
   },
   "outputs": [],
   "source": [
    "maleHeightData = heightData.loc[heightData['gender'] == 0]\n",
    "femaleHeightData = heightData.loc[heightData['gender'] == 1]"
   ]
  },
  {
   "cell_type": "code",
   "execution_count": 98,
   "metadata": {
    "scrolled": true
   },
   "outputs": [
    {
     "data": {
      "image/png": "[encoded data removed]",
      "text/plain": [
       "<matplotlib.figure.Figure at 0x1685aa1bc50>"
      ]
     },
     "metadata": {},
     "output_type": "display_data"
    }
   ],
   "source": [
    "plt.scatter(x=maleHeightData.height, y=maleHeightData.weight, color='r')\n",
    "plt.scatter(x=femaleHeightData.height, y=femaleHeightData.weight, color='b')\n",
    "plt.title('Relationship between height, weight, and gender')\n",
    "plt.xlabel('Height in inches')\n",
    "plt.ylabel('Weight in pounds')\n",
    "plt.legend(['Male', 'Female'], title='Gender')\n",
    "plt.show()"
   ]
  },
  {
   "cell_type": "markdown",
   "metadata": {},
   "source": []
  },
  {
   "cell_type": "markdown",
   "metadata": {
    "collapsed": true
   },
   "source": [
    "# Animals Gestation"
   ]
  },
  {
   "cell_type": "code",
   "execution_count": 1,
   "metadata": {
    "collapsed": true
   },
   "outputs": [],
   "source": [
    "import pandas as pd\n",
    "import matplotlib.pyplot as plt\n",
    "animalsData = pd.read_csv('AnimalsData.csv')"
   ]
  },
  {
   "cell_type": "code",
   "execution_count": 2,
   "metadata": {},
   "outputs": [
    {
     "data": {
      "text/html": [
       "<div>\n",
       "<style>\n",
       "    .dataframe thead tr:only-child th {\n",
       "        text-align: right;\n",
       "    }\n",
       "\n",
       "    .dataframe thead th {\n",
       "        text-align: left;\n",
       "    }\n",
       "\n",
       "    .dataframe tbody tr th {\n",
       "        vertical-align: top;\n",
       "    }\n",
       "</style>\n",
       "<table border=\"1\" class=\"dataframe\">\n",
       "  <thead>\n",
       "    <tr style=\"text-align: right;\">\n",
       "      <th></th>\n",
       "      <th>Unnamed: 0</th>\n",
       "      <th>animal</th>\n",
       "      <th>gestation</th>\n",
       "      <th>longevity</th>\n",
       "    </tr>\n",
       "  </thead>\n",
       "  <tbody>\n",
       "    <tr>\n",
       "      <th>0</th>\n",
       "      <td>1</td>\n",
       "      <td>baboon</td>\n",
       "      <td>187</td>\n",
       "      <td>20</td>\n",
       "    </tr>\n",
       "    <tr>\n",
       "      <th>1</th>\n",
       "      <td>2</td>\n",
       "      <td>bear, black</td>\n",
       "      <td>219</td>\n",
       "      <td>18</td>\n",
       "    </tr>\n",
       "    <tr>\n",
       "      <th>2</th>\n",
       "      <td>3</td>\n",
       "      <td>bear, grizzly</td>\n",
       "      <td>225</td>\n",
       "      <td>25</td>\n",
       "    </tr>\n",
       "    <tr>\n",
       "      <th>3</th>\n",
       "      <td>4</td>\n",
       "      <td>bear, polar</td>\n",
       "      <td>240</td>\n",
       "      <td>20</td>\n",
       "    </tr>\n",
       "    <tr>\n",
       "      <th>4</th>\n",
       "      <td>5</td>\n",
       "      <td>beaver</td>\n",
       "      <td>122</td>\n",
       "      <td>5</td>\n",
       "    </tr>\n",
       "  </tbody>\n",
       "</table>\n",
       "</div>"
      ],
      "text/plain": [
       "   Unnamed: 0         animal  gestation  longevity\n",
       "0           1         baboon        187         20\n",
       "1           2    bear, black        219         18\n",
       "2           3  bear, grizzly        225         25\n",
       "3           4    bear, polar        240         20\n",
       "4           5         beaver        122          5"
      ]
     },
     "execution_count": 2,
     "metadata": {},
     "output_type": "execute_result"
    }
   ],
   "source": [
    "animalsData.head()"
   ]
  },
  {
   "cell_type": "code",
   "execution_count": 5,
   "metadata": {},
   "outputs": [
    {
     "data": {
      "image/png": "[encoded data removed]",
      "text/plain": [
       "<matplotlib.figure.Figure at 0x17d38f78080>"
      ]
     },
     "metadata": {},
     "output_type": "display_data"
    }
   ],
   "source": [
    "plt.scatter(x=animalsData.gestation, y=animalsData.longevity, color='b')\n",
    "plt.title('Relationship between animal gestation and longevity')\n",
    "plt.xlabel('Gestation in days')\n",
    "plt.ylabel('Longevity in years')\n",
    "plt.show()"
   ]
  },
  {
   "cell_type": "code",
   "execution_count": 7,
   "metadata": {},
   "outputs": [
    {
     "data": {
      "text/plain": [
       "gestation     1.000000\n",
       "longevity     0.663240\n",
       "Unnamed: 0   -0.179787\n",
       "Name: gestation, dtype: float64"
      ]
     },
     "execution_count": 7,
     "metadata": {},
     "output_type": "execute_result"
    }
   ],
   "source": [
    "corr_matrix = animalsData.corr()\n",
    "corr_matrix[\"gestation\"].sort_values(ascending=False)"
   ]
  },
  {
   "cell_type": "code",
   "execution_count": 21,
   "metadata": {},
   "outputs": [],
   "source": [
    "#Remove the elephant outlier\n",
    "animalsData = animalsData[animalsData.animal != 'elephant']"
   ]
  },
  {
   "cell_type": "code",
   "execution_count": 23,
   "metadata": {},
   "outputs": [
    {
     "data": {
      "text/plain": [
       "gestation     1.000000\n",
       "longevity     0.519039\n",
       "Unnamed: 0   -0.164249\n",
       "Name: gestation, dtype: float64"
      ]
     },
     "execution_count": 23,
     "metadata": {},
     "output_type": "execute_result"
    }
   ],
   "source": [
    "#View the correlation without the outlier\n",
    "corr_matrix = animalsData.corr()\n",
    "corr_matrix[\"gestation\"].sort_values(ascending=False)"
   ]
  },
  {
   "cell_type": "code",
   "execution_count": 39,
   "metadata": {},
   "outputs": [
    {
     "data": {
      "text/html": [
       "<div>\n",
       "<style>\n",
       "    .dataframe thead tr:only-child th {\n",
       "        text-align: right;\n",
       "    }\n",
       "\n",
       "    .dataframe thead th {\n",
       "        text-align: left;\n",
       "    }\n",
       "\n",
       "    .dataframe tbody tr th {\n",
       "        vertical-align: top;\n",
       "    }\n",
       "</style>\n",
       "<table border=\"1\" class=\"dataframe\">\n",
       "  <thead>\n",
       "    <tr style=\"text-align: right;\">\n",
       "      <th></th>\n",
       "      <th>Unnamed: 0</th>\n",
       "      <th>Year</th>\n",
       "      <th>Time</th>\n",
       "    </tr>\n",
       "  </thead>\n",
       "  <tbody>\n",
       "    <tr>\n",
       "      <th>0</th>\n",
       "      <td>1</td>\n",
       "      <td>1896</td>\n",
       "      <td>273.2</td>\n",
       "    </tr>\n",
       "    <tr>\n",
       "      <th>1</th>\n",
       "      <td>2</td>\n",
       "      <td>1900</td>\n",
       "      <td>246.0</td>\n",
       "    </tr>\n",
       "    <tr>\n",
       "      <th>2</th>\n",
       "      <td>3</td>\n",
       "      <td>1904</td>\n",
       "      <td>245.4</td>\n",
       "    </tr>\n",
       "    <tr>\n",
       "      <th>3</th>\n",
       "      <td>4</td>\n",
       "      <td>1908</td>\n",
       "      <td>243.4</td>\n",
       "    </tr>\n",
       "    <tr>\n",
       "      <th>4</th>\n",
       "      <td>5</td>\n",
       "      <td>1912</td>\n",
       "      <td>236.8</td>\n",
       "    </tr>\n",
       "  </tbody>\n",
       "</table>\n",
       "</div>"
      ],
      "text/plain": [
       "   Unnamed: 0  Year   Time\n",
       "0           1  1896  273.2\n",
       "1           2  1900  246.0\n",
       "2           3  1904  245.4\n",
       "3           4  1908  243.4\n",
       "4           5  1912  236.8"
      ]
     },
     "execution_count": 39,
     "metadata": {},
     "output_type": "execute_result"
    }
   ],
   "source": [
    "from scipy.stats import linregress\n",
    "import pandas as pd\n",
    "olympicsData = pd.read_csv('OlympicsData.csv')\n",
    "olympicsData.head()\n"
   ]
  },
  {
   "cell_type": "code",
   "execution_count": 36,
   "metadata": {},
   "outputs": [],
   "source": [
    "lr = linregress(x = olympicsData['Year'], y = olympicsData['Time'])\n",
    "lr?"
   ]
  },
  {
   "cell_type": "code",
   "execution_count": 40,
   "metadata": {},
   "outputs": [
    {
     "data": {
      "image/png": "[encoded data removed]",
      "text/plain": [
       "<matplotlib.figure.Figure at 0x17d3900a908>"
      ]
     },
     "metadata": {},
     "output_type": "display_data"
    }
   ],
   "source": [
    "plt.scatter(x=olympicsData.Year, y=olympicsData.Time, color='b')\n",
    "plt.title('Relationship between Year and Time of Olympic Race')\n",
    "plt.xlabel('Year')\n",
    "plt.ylabel('Time in Seconds')\n",
    "#Plot the linear line to show the accuracy visually\n",
    "plt.plot(olympicsData['Year'], lr.slope *olympicsData.Year + lr.intercept , '-')\n",
    "plt.show()"
   ]
  },
  {
   "cell_type": "code",
   "execution_count": 42,
   "metadata": {},
   "outputs": [],
   "source": [
    "#Remove the outlier\n",
    "#Remove the elephant outlier\n",
    "olympicsData = olympicsData[olympicsData.Year != 1896]"
   ]
  },
  {
   "cell_type": "code",
   "execution_count": 44,
   "metadata": {},
   "outputs": [
    {
     "name": "stdout",
     "output_type": "stream",
     "text": [
      "-0.299746451128\n",
      "811.535702971\n"
     ]
    }
   ],
   "source": [
    "lr = linregress(x = olympicsData['Year'], y = olympicsData['Time'])\n",
    "print(lr.slope)\n",
    "print(lr.intercept)"
   ]
  },
  {
   "cell_type": "code",
   "execution_count": 45,
   "metadata": {},
   "outputs": [
    {
     "data": {
      "image/png": "[encoded data removed]",
      "text/plain": [
       "<matplotlib.figure.Figure at 0x17d3976af28>"
      ]
     },
     "metadata": {},
     "output_type": "display_data"
    }
   ],
   "source": [
    "plt.scatter(x=olympicsData.Year, y=olympicsData.Time, color='b')\n",
    "plt.title('Relationship between Year and Time of Olympic Race')\n",
    "plt.xlabel('Year')\n",
    "plt.ylabel('Time in Seconds')\n",
    "#Plot the linear line to show the accuracy visually\n",
    "plt.plot(olympicsData['Year'], lr.slope *olympicsData.Year + lr.intercept , '-')\n",
    "plt.show()"
   ]
  },
  {
   "cell_type": "code",
   "execution_count": 46,
   "metadata": {},
   "outputs": [
    {
     "data": {
      "text/plain": [
       "207.24685749680145"
      ]
     },
     "execution_count": 46,
     "metadata": {},
     "output_type": "execute_result"
    }
   ],
   "source": [
    "lr.slope * 2016 + lr.intercept"
   ]
  },
  {
   "cell_type": "code",
   "execution_count": null,
   "metadata": {
    "collapsed": true
   },
   "outputs": [],
   "source": []
  }
 ],
 "metadata": {
  "kernelspec": {
   "display_name": "Python 3",
   "language": "python",
   "name": "python3"
  },
  "language_info": {
   "codemirror_mode": {
    "name": "ipython",
    "version": 3
   },
   "file_extension": ".py",
   "mimetype": "text/x-python",
   "name": "python",
   "nbconvert_exporter": "python",
   "pygments_lexer": "ipython3",
   "version": "3.6.2"
  }
 },
 "nbformat": 4,
 "nbformat_minor": 2
}
