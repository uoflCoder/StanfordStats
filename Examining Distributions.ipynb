{
 "cells": [
  {
   "cell_type": "code",
   "execution_count": 1,
   "metadata": {
    "collapsed": true
   },
   "outputs": [],
   "source": [
    "import pandas as pd\n",
    "patientData = pd.read_csv('PatientData.csv')"
   ]
  },
  {
   "cell_type": "code",
   "execution_count": 2,
   "metadata": {
    "collapsed": true
   },
   "outputs": [],
   "source": [
    "patientData['Gender'] = patientData['Gender'].map({'Female':1, 'Male': 2})"
   ]
  },
  {
   "cell_type": "code",
   "execution_count": 3,
   "metadata": {
    "collapsed": true
   },
   "outputs": [],
   "source": [
    "patientData['Gender'].replace(1, 'Female',inplace=True)\n",
    "patientData['Gender'].replace(2, 'Male',inplace=True)"
   ]
  },
  {
   "cell_type": "code",
   "execution_count": 4,
   "metadata": {},
   "outputs": [
    {
     "data": {
      "image/png": "[encoded data removed]",
      "text/plain": [
       "<matplotlib.figure.Figure at 0x20f6fc2f128>"
      ]
     },
     "metadata": {},
     "output_type": "display_data"
    }
   ],
   "source": [
    "from string import digits\n",
    "import matplotlib.pyplot as plt\n",
    "friendsData = pd.read_csv('FriendsData.csv');\n",
    "friendsData['Friends'] = friendsData['Friends'].replace({'\"':''}, regex=True)\n",
    "#friendsData['Friends'] = friendsData['Friends'].replace({' ':''}, regex=True)\n",
    "remove_digits = str.maketrans('', '', digits)\n",
    "for i in range(0, len(friendsData)):\n",
    "    friendsData['Friends'][i] = friendsData['Friends'][i].translate(remove_digits)\n",
    "\n",
    "pie_chart = friendsData.Friends.value_counts()\n",
    "\n",
    "plt.pie(pie_chart, labels = pie_chart.index.tolist(), autopct = '%1.02f%%')\n",
    "plt.show()"
   ]
  },
  {
   "cell_type": "code",
   "execution_count": 8,
   "metadata": {},
   "outputs": [
    {
     "data": {
      "image/png": "[encoded data removed]",
      "text/plain": [
       "<matplotlib.figure.Figure at 0x20f72bcae10>"
      ]
     },
     "metadata": {},
     "output_type": "display_data"
    }
   ],
   "source": [
    "import matplotlib.pyplot as plt\n",
    "import numpy as np\n",
    "import pandas as pd\n",
    "\n",
    "actorsData = pd.read_csv('ActorsData.csv')\n",
    "plt.hist(actorsData['Age'], bins=8)\n",
    "plt.title(\"Best Actor Oscar Winners Ages\")\n",
    "plt.xlabel(\"Age of Best Actor Oscar Winners (1970-2013)\")\n",
    "plt.ylabel(\"Number of Actors\")\n",
    "\n",
    "plt.show()"
   ]
  },
  {
   "cell_type": "code",
   "execution_count": 5,
   "metadata": {
    "collapsed": true
   },
   "outputs": [],
   "source": [
    "import numpy as np\n",
    "actorAge = pd.read_csv('ActorAge.csv')"
   ]
  },
  {
   "cell_type": "code",
   "execution_count": 6,
   "metadata": {},
   "outputs": [
    {
     "data": {
      "text/plain": [
       "count    44.000000\n",
       "mean     44.977273\n",
       "std       9.749153\n",
       "min      29.000000\n",
       "25%      38.000000\n",
       "50%      43.500000\n",
       "75%      50.250000\n",
       "max      76.000000\n",
       "Name: Age, dtype: float64"
      ]
     },
     "execution_count": 6,
     "metadata": {},
     "output_type": "execute_result"
    }
   ],
   "source": [
    "actorAge['Age'].describe()"
   ]
  },
  {
   "cell_type": "code",
   "execution_count": 7,
   "metadata": {},
   "outputs": [
    {
     "name": "stdout",
     "output_type": "stream",
     "text": [
      "Mean: 44.9772727273\n",
      "Standard Deviation: 9.63773039193\n",
      "Variance: 92.8858471074\n",
      "Median: 43.5\n",
      "1st Quartile: 38.0\n",
      "3rd Quartile: 50.25\n",
      "IQR: 12.25\n",
      "Minimum: 29\n",
      "Maximum: 76\n",
      "Count: 44\n"
     ]
    }
   ],
   "source": [
    "print(\"Mean:\",np.mean(actorAge['Age']))\n",
    "print(\"Standard Deviation:\",np.std(actorAge['Age']))\n",
    "print(\"Variance:\",np.var(actorAge['Age']))\n",
    "print(\"Median:\",np.median(actorAge['Age']))\n",
    "print(\"1st Quartile:\",np.percentile(actorAge['Age'],25))\n",
    "print(\"3rd Quartile:\",np.percentile(actorAge['Age'], 75))\n",
    "print(\"IQR:\",np.percentile(actorAge['Age'], 75) - np.percentile(actorAge['Age'],25))\n",
    "print(\"Minimum:\",np.min(actorAge['Age']))\n",
    "print(\"Maximum:\",np.max(actorAge['Age']))\n",
    "print(\"Count:\",np.size(actorAge['Age']))"
   ]
  },
  {
   "cell_type": "code",
   "execution_count": 4,
   "metadata": {},
   "outputs": [],
   "source": [
    "import pandas as pd\n",
    "import matplotlib.pyplot as plt\n",
    "gradData = pd.read_csv('GraduationData.csv')\n"
   ]
  },
  {
   "cell_type": "code",
   "execution_count": 23,
   "metadata": {},
   "outputs": [
    {
     "data": {
      "text/html": [
       "<div>\n",
       "<style>\n",
       "    .dataframe thead tr:only-child th {\n",
       "        text-align: right;\n",
       "    }\n",
       "\n",
       "    .dataframe thead th {\n",
       "        text-align: left;\n",
       "    }\n",
       "\n",
       "    .dataframe tbody tr th {\n",
       "        vertical-align: top;\n",
       "    }\n",
       "</style>\n",
       "<table border=\"1\" class=\"dataframe\">\n",
       "  <thead>\n",
       "    <tr style=\"text-align: right;\">\n",
       "      <th></th>\n",
       "      <th>Unnamed: 0</th>\n",
       "      <th>College.A</th>\n",
       "      <th>College.B</th>\n",
       "      <th>College.C</th>\n",
       "      <th>College.D</th>\n",
       "      <th>College.E</th>\n",
       "      <th>College.F</th>\n",
       "    </tr>\n",
       "  </thead>\n",
       "  <tbody>\n",
       "    <tr>\n",
       "      <th>count</th>\n",
       "      <td>8.00000</td>\n",
       "      <td>8.000000</td>\n",
       "      <td>8.000000</td>\n",
       "      <td>8.000000</td>\n",
       "      <td>8.000000</td>\n",
       "      <td>8.000000</td>\n",
       "      <td>8.000000</td>\n",
       "    </tr>\n",
       "    <tr>\n",
       "      <th>mean</th>\n",
       "      <td>4.50000</td>\n",
       "      <td>60.962500</td>\n",
       "      <td>71.287500</td>\n",
       "      <td>65.175000</td>\n",
       "      <td>79.112500</td>\n",
       "      <td>60.775000</td>\n",
       "      <td>72.775000</td>\n",
       "    </tr>\n",
       "    <tr>\n",
       "      <th>std</th>\n",
       "      <td>2.44949</td>\n",
       "      <td>11.955027</td>\n",
       "      <td>3.061483</td>\n",
       "      <td>8.279018</td>\n",
       "      <td>3.853547</td>\n",
       "      <td>5.892307</td>\n",
       "      <td>11.116108</td>\n",
       "    </tr>\n",
       "    <tr>\n",
       "      <th>min</th>\n",
       "      <td>1.00000</td>\n",
       "      <td>43.200000</td>\n",
       "      <td>67.300000</td>\n",
       "      <td>54.500000</td>\n",
       "      <td>74.100000</td>\n",
       "      <td>54.500000</td>\n",
       "      <td>57.700000</td>\n",
       "    </tr>\n",
       "    <tr>\n",
       "      <th>25%</th>\n",
       "      <td>2.75000</td>\n",
       "      <td>50.950000</td>\n",
       "      <td>69.550000</td>\n",
       "      <td>56.575000</td>\n",
       "      <td>76.650000</td>\n",
       "      <td>56.875000</td>\n",
       "      <td>65.050000</td>\n",
       "    </tr>\n",
       "    <tr>\n",
       "      <th>50%</th>\n",
       "      <td>4.50000</td>\n",
       "      <td>63.750000</td>\n",
       "      <td>70.150000</td>\n",
       "      <td>67.650000</td>\n",
       "      <td>79.000000</td>\n",
       "      <td>59.150000</td>\n",
       "      <td>72.000000</td>\n",
       "    </tr>\n",
       "    <tr>\n",
       "      <th>75%</th>\n",
       "      <td>6.25000</td>\n",
       "      <td>70.500000</td>\n",
       "      <td>73.050000</td>\n",
       "      <td>71.575000</td>\n",
       "      <td>81.100000</td>\n",
       "      <td>63.700000</td>\n",
       "      <td>81.275000</td>\n",
       "    </tr>\n",
       "    <tr>\n",
       "      <th>max</th>\n",
       "      <td>8.00000</td>\n",
       "      <td>73.800000</td>\n",
       "      <td>76.700000</td>\n",
       "      <td>74.800000</td>\n",
       "      <td>84.600000</td>\n",
       "      <td>71.300000</td>\n",
       "      <td>87.400000</td>\n",
       "    </tr>\n",
       "  </tbody>\n",
       "</table>\n",
       "</div>"
      ],
      "text/plain": [
       "       Unnamed: 0  College.A  College.B  College.C  College.D  College.E  \\\n",
       "count     8.00000   8.000000   8.000000   8.000000   8.000000   8.000000   \n",
       "mean      4.50000  60.962500  71.287500  65.175000  79.112500  60.775000   \n",
       "std       2.44949  11.955027   3.061483   8.279018   3.853547   5.892307   \n",
       "min       1.00000  43.200000  67.300000  54.500000  74.100000  54.500000   \n",
       "25%       2.75000  50.950000  69.550000  56.575000  76.650000  56.875000   \n",
       "50%       4.50000  63.750000  70.150000  67.650000  79.000000  59.150000   \n",
       "75%       6.25000  70.500000  73.050000  71.575000  81.100000  63.700000   \n",
       "max       8.00000  73.800000  76.700000  74.800000  84.600000  71.300000   \n",
       "\n",
       "       College.F  \n",
       "count   8.000000  \n",
       "mean   72.775000  \n",
       "std    11.116108  \n",
       "min    57.700000  \n",
       "25%    65.050000  \n",
       "50%    72.000000  \n",
       "75%    81.275000  \n",
       "max    87.400000  "
      ]
     },
     "execution_count": 23,
     "metadata": {},
     "output_type": "execute_result"
    }
   ],
   "source": [
    "gradData.describe()"
   ]
  },
  {
   "cell_type": "code",
   "execution_count": 67,
   "metadata": {},
   "outputs": [
    {
     "data": {
      "text/plain": [
       "{'boxes': [<matplotlib.lines.Line2D at 0x1a5987db208>],\n",
       " 'caps': [<matplotlib.lines.Line2D at 0x1a5991449e8>,\n",
       "  <matplotlib.lines.Line2D at 0x1a596e2dcf8>],\n",
       " 'fliers': [<matplotlib.lines.Line2D at 0x1a598bb1160>],\n",
       " 'means': [],\n",
       " 'medians': [<matplotlib.lines.Line2D at 0x1a598e69048>],\n",
       " 'whiskers': [<matplotlib.lines.Line2D at 0x1a5987db048>,\n",
       "  <matplotlib.lines.Line2D at 0x1a599144048>]}"
      ]
     },
     "execution_count": 67,
     "metadata": {},
     "output_type": "execute_result"
    }
   ],
   "source": [
    "plt.title(\"Graduation Rates among colleges\")\n",
    "plt.boxplot(gradData['College.A'], vert = False, labels=['College.A'])\n",
    "plt.figure()\n",
    "plt.boxplot(gradData['College.B'], vert = False, labels=['College.B'])\n",
    "plt.figure()\n",
    "plt.boxplot(gradData['College.C'], vert = False, labels=['College.C'])\n",
    "plt.figure()\n",
    "plt.boxplot(gradData['College.D'], vert = False, labels=['College.D'])\n",
    "plt.figure()\n",
    "plt.boxplot(gradData['College.E'], vert = False, labels=['College.E'])\n",
    "plt.figure()\n",
    "plt.boxplot(gradData['College.F'], vert = False, labels=['College.F'])"
   ]
  },
  {
   "cell_type": "code",
   "execution_count": 68,
   "metadata": {},
   "outputs": [
    {
     "data": {
      "image/png": "[encoded data removed]",
      "text/plain": [
       "<matplotlib.figure.Figure at 0x1a59709e080>"
      ]
     },
     "metadata": {},
     "output_type": "display_data"
    },
    {
     "data": {
      "image/png": "[encoded data removed]",
      "text/plain": [
       "<matplotlib.figure.Figure at 0x1a598aa5ac8>"
      ]
     },
     "metadata": {},
     "output_type": "display_data"
    },
    {
     "data": {
      "image/png": "[encoded data removed]",
      "text/plain": [
       "<matplotlib.figure.Figure at 0x1a598d02b70>"
      ]
     },
     "metadata": {},
     "output_type": "display_data"
    },
    {
     "data": {
      "image/png": "[encoded data removed]",
      "text/plain": [
       "<matplotlib.figure.Figure at 0x1a598c12518>"
      ]
     },
     "metadata": {},
     "output_type": "display_data"
    },
    {
     "data": {
      "image/png": "[encoded data removed]",
      "text/plain": [
       "<matplotlib.figure.Figure at 0x1a59926e198>"
      ]
     },
     "metadata": {},
     "output_type": "display_data"
    },
    {
     "data": {
      "image/png": "[encoded data removed]",
      "text/plain": [
       "<matplotlib.figure.Figure at 0x1a5992d1828>"
      ]
     },
     "metadata": {},
     "output_type": "display_data"
    }
   ],
   "source": [
    "plt.show()"
   ]
  },
  {
   "cell_type": "code",
   "execution_count": 71,
   "metadata": {},
   "outputs": [
    {
     "data": {
      "text/plain": [
       "Unnamed: 0    7.788881\n",
       "Class.I       1.539601\n",
       "Class.II      3.925227\n",
       "Class.III     2.581989\n",
       "dtype: float64"
      ]
     },
     "execution_count": 71,
     "metadata": {},
     "output_type": "execute_result"
    }
   ],
   "source": [
    "import pandas as pd\n",
    "import numpy as np\n",
    "ratings = pd.read_csv('Ratings.csv')\n",
    "np.std(ratings)"
   ]
  },
  {
   "cell_type": "code",
   "execution_count": null,
   "metadata": {
    "collapsed": true
   },
   "outputs": [],
   "source": [
    "\n",
    "\n"
   ]
  }
 ],
 "metadata": {
  "kernelspec": {
   "display_name": "Python 3",
   "language": "python",
   "name": "python3"
  },
  "language_info": {
   "codemirror_mode": {
    "name": "ipython",
    "version": 3
   },
   "file_extension": ".py",
   "mimetype": "text/x-python",
   "name": "python",
   "nbconvert_exporter": "python",
   "pygments_lexer": "ipython3",
   "version": "3.6.1"
  }
 },
 "nbformat": 4,
 "nbformat_minor": 2
}
