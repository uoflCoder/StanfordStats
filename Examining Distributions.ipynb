{
 "cells": [
  {
   "cell_type": "code",
   "execution_count": 18,
   "metadata": {
    "collapsed": true
   },
   "outputs": [],
   "source": [
    "import pandas as pd\n",
    "patientData = pd.read_csv('PatientData.csv')"
   ]
  },
  {
   "cell_type": "code",
   "execution_count": 19,
   "metadata": {},
   "outputs": [
    {
     "name": "stdout",
     "output_type": "stream",
     "text": [
      "     Unnamed: 0  Hospt  Treat  Outcome        Time  AcuteT  Age  Gender\n",
      "0             1      1      0        1   36.143002     211   33  Female\n",
      "1             2      1      1        0  105.142998     176   49  Female\n",
      "2             3      1      1        0   74.570999     191   50  Female\n",
      "3             4      1      0        1   49.714001     206   29    Male\n",
      "4             5      1      0        0   14.429000      63   29  Female\n",
      "5             6      1      2        1    5.000000      70   30    Male\n",
      "6             7      1      0        0  104.857002      55   56  Female\n",
      "7             8      1      2        1    2.857000     512   48  Female\n",
      "8             9      1      2        0  102.429001     162   22    Male\n",
      "9            10      1      2        1   55.714001     306   61    Male\n",
      "10           11      1      1        0  106.429001     165   58  Female\n",
      "11           12      1      1        0  105.142998     129   31  Female\n",
      "12           13      1      1        0   83.000000     428   44  Female\n",
      "13           14      1      1        1   27.285999     256   55    Male\n",
      "14           15      1      0        0  105.857002     197   57    Male\n",
      "15           16      1      0        1    5.571000     227   46  Female\n",
      "16           17      1      1        0   98.000000     168   58  Female\n",
      "17           18      1      0        0   16.285999     194   57  Female\n",
      "18           19      2      0        1    1.286000     173   54  Female\n",
      "19           20      2      0        0    2.143000      48   23  Female\n",
      "20           21      2      1        0  100.000000      47   65  Female\n",
      "21           22      2      1        1   27.143000      95   27  Female\n",
      "22           23      2      0        1    4.000000     148   50  Female\n",
      "23           24      2      0        1   74.142998     127   41    Male\n",
      "24           25      2      2        0  104.857002     129   65  Female\n",
      "25           26      2      2        1    0.143000     182   52  Female\n",
      "26           27      2      2        1    1.429000      90   60  Female\n",
      "27           28      2      2        1   45.856998     177   25    Male\n",
      "28           29      2      1        1   17.429001     234   27    Male\n",
      "29           30      2      1        0   78.000000     322   32  Female\n",
      "..          ...    ...    ...      ...         ...     ...  ...     ...\n",
      "79           80      5      0        1    0.286000     146   46  Female\n",
      "80           81      5      1        0   86.000000     195   33    Male\n",
      "81           82      5      2        0   12.429000     476   22  Female\n",
      "82           83      5      0        0   22.000000     441   37    Male\n",
      "83           84      6      0        1    5.429000      86   40    Male\n",
      "84           85      6      0        0   67.000000     201   22  Female\n",
      "85           86      6      1        1    3.429000     130   30    Male\n",
      "86           87      6      0        1    6.286000      86   63    Male\n",
      "87           88      6      1        0    5.000000     209   40  Female\n",
      "88           89      6      0        1    5.286000     214   23  Female\n",
      "89           90      6      1        1    1.000000      72   52  Female\n",
      "90           91      6      2        1    3.429000     238   23  Female\n",
      "91           92      6      2        1    6.571000     133   22    Male\n",
      "92           93      6      2        1    1.000000     128   23  Female\n",
      "93           94      6      2        0   45.000000     139   30    Male\n",
      "94           95      6      1        0  109.570999     148   26    Male\n",
      "95           96      6      0        1    0.857000     285   46  Female\n",
      "96           97      6      2        1    4.714000     141   61  Female\n",
      "97           98      6      1        1    0.571000     212   30    Male\n",
      "98           99      6      1        0    9.143000     168   39  Female\n",
      "99          100      6      1        0  102.000000     305   49  Female\n",
      "100         101      6      0        1   46.285999     204   57  Female\n",
      "101         102      6      0        1    0.571000     140   51  Female\n",
      "102         103      6      0        1    6.429000     182   53  Female\n",
      "103         104      6      2        1    0.000000     162   31  Female\n",
      "104         105      6      2        1   20.857000     207   43  Female\n",
      "105         106      6      2        1   18.285999     102   29  Female\n",
      "106         107      6      1        1   31.857000     154   28  Female\n",
      "107         108      6      1        1   22.000000     203   51  Female\n",
      "108         109      6      0        1    2.000000     176   33  Female\n",
      "\n",
      "[109 rows x 8 columns]\n"
     ]
    }
   ],
   "source": [
    "print(patientData)\n",
    "patientData['Gender'] = patientData['Gender'].map({'Female':1, 'Male': 2})"
   ]
  },
  {
   "cell_type": "code",
   "execution_count": 21,
   "metadata": {},
   "outputs": [
    {
     "name": "stdout",
     "output_type": "stream",
     "text": [
      "     Unnamed: 0  Hospt  Treat  Outcome        Time  AcuteT  Age  Gender\n",
      "0             1      1      0        1   36.143002     211   33  Female\n",
      "1             2      1      1        0  105.142998     176   49  Female\n",
      "2             3      1      1        0   74.570999     191   50  Female\n",
      "3             4      1      0        1   49.714001     206   29    Male\n",
      "4             5      1      0        0   14.429000      63   29  Female\n",
      "5             6      1      2        1    5.000000      70   30    Male\n",
      "6             7      1      0        0  104.857002      55   56  Female\n",
      "7             8      1      2        1    2.857000     512   48  Female\n",
      "8             9      1      2        0  102.429001     162   22    Male\n",
      "9            10      1      2        1   55.714001     306   61    Male\n",
      "10           11      1      1        0  106.429001     165   58  Female\n",
      "11           12      1      1        0  105.142998     129   31  Female\n",
      "12           13      1      1        0   83.000000     428   44  Female\n",
      "13           14      1      1        1   27.285999     256   55    Male\n",
      "14           15      1      0        0  105.857002     197   57    Male\n",
      "15           16      1      0        1    5.571000     227   46  Female\n",
      "16           17      1      1        0   98.000000     168   58  Female\n",
      "17           18      1      0        0   16.285999     194   57  Female\n",
      "18           19      2      0        1    1.286000     173   54  Female\n",
      "19           20      2      0        0    2.143000      48   23  Female\n",
      "20           21      2      1        0  100.000000      47   65  Female\n",
      "21           22      2      1        1   27.143000      95   27  Female\n",
      "22           23      2      0        1    4.000000     148   50  Female\n",
      "23           24      2      0        1   74.142998     127   41    Male\n",
      "24           25      2      2        0  104.857002     129   65  Female\n",
      "25           26      2      2        1    0.143000     182   52  Female\n",
      "26           27      2      2        1    1.429000      90   60  Female\n",
      "27           28      2      2        1   45.856998     177   25    Male\n",
      "28           29      2      1        1   17.429001     234   27    Male\n",
      "29           30      2      1        0   78.000000     322   32  Female\n",
      "..          ...    ...    ...      ...         ...     ...  ...     ...\n",
      "79           80      5      0        1    0.286000     146   46  Female\n",
      "80           81      5      1        0   86.000000     195   33    Male\n",
      "81           82      5      2        0   12.429000     476   22  Female\n",
      "82           83      5      0        0   22.000000     441   37    Male\n",
      "83           84      6      0        1    5.429000      86   40    Male\n",
      "84           85      6      0        0   67.000000     201   22  Female\n",
      "85           86      6      1        1    3.429000     130   30    Male\n",
      "86           87      6      0        1    6.286000      86   63    Male\n",
      "87           88      6      1        0    5.000000     209   40  Female\n",
      "88           89      6      0        1    5.286000     214   23  Female\n",
      "89           90      6      1        1    1.000000      72   52  Female\n",
      "90           91      6      2        1    3.429000     238   23  Female\n",
      "91           92      6      2        1    6.571000     133   22    Male\n",
      "92           93      6      2        1    1.000000     128   23  Female\n",
      "93           94      6      2        0   45.000000     139   30    Male\n",
      "94           95      6      1        0  109.570999     148   26    Male\n",
      "95           96      6      0        1    0.857000     285   46  Female\n",
      "96           97      6      2        1    4.714000     141   61  Female\n",
      "97           98      6      1        1    0.571000     212   30    Male\n",
      "98           99      6      1        0    9.143000     168   39  Female\n",
      "99          100      6      1        0  102.000000     305   49  Female\n",
      "100         101      6      0        1   46.285999     204   57  Female\n",
      "101         102      6      0        1    0.571000     140   51  Female\n",
      "102         103      6      0        1    6.429000     182   53  Female\n",
      "103         104      6      2        1    0.000000     162   31  Female\n",
      "104         105      6      2        1   20.857000     207   43  Female\n",
      "105         106      6      2        1   18.285999     102   29  Female\n",
      "106         107      6      1        1   31.857000     154   28  Female\n",
      "107         108      6      1        1   22.000000     203   51  Female\n",
      "108         109      6      0        1    2.000000     176   33  Female\n",
      "\n",
      "[109 rows x 8 columns]\n"
     ]
    }
   ],
   "source": [
    "patientData['Gender'].replace(1, 'Female',inplace=True)\n",
    "patientData['Gender'].replace(2, 'Male',inplace=True)\n",
    "\n",
    "print(patientData)"
   ]
  },
  {
   "cell_type": "code",
   "execution_count": null,
   "metadata": {
    "collapsed": true
   },
   "outputs": [],
   "source": []
  },
  {
   "cell_type": "code",
   "execution_count": null,
   "metadata": {
    "collapsed": true
   },
   "outputs": [],
   "source": []
  }
 ],
 "metadata": {
  "kernelspec": {
   "display_name": "Python 3",
   "language": "python",
   "name": "python3"
  },
  "language_info": {
   "codemirror_mode": {
    "name": "ipython",
    "version": 3
   },
   "file_extension": ".py",
   "mimetype": "text/x-python",
   "name": "python",
   "nbconvert_exporter": "python",
   "pygments_lexer": "ipython3",
   "version": "3.6.1"
  }
 },
 "nbformat": 4,
 "nbformat_minor": 2
}
